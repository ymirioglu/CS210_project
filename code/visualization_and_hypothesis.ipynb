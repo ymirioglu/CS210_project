{
 "cells": [
  {
   "cell_type": "code",
   "execution_count": 1,
   "metadata": {},
   "outputs": [
    {
     "data": {
      "text/html": [
       "<div>\n",
       "<style scoped>\n",
       "    .dataframe tbody tr th:only-of-type {\n",
       "        vertical-align: middle;\n",
       "    }\n",
       "\n",
       "    .dataframe tbody tr th {\n",
       "        vertical-align: top;\n",
       "    }\n",
       "\n",
       "    .dataframe thead th {\n",
       "        text-align: right;\n",
       "    }\n",
       "</style>\n",
       "<table border=\"1\" class=\"dataframe\">\n",
       "  <thead>\n",
       "    <tr style=\"text-align: right;\">\n",
       "      <th></th>\n",
       "      <th>Watched Date</th>\n",
       "      <th>Film Name</th>\n",
       "      <th>Film Year</th>\n",
       "      <th>My Rating</th>\n",
       "      <th>General Rating</th>\n",
       "      <th>Director</th>\n",
       "      <th>Genres</th>\n",
       "      <th>Month</th>\n",
       "    </tr>\n",
       "  </thead>\n",
       "  <tbody>\n",
       "    <tr>\n",
       "      <th>0</th>\n",
       "      <td>2023-12-25</td>\n",
       "      <td>In Bruges</td>\n",
       "      <td>2008</td>\n",
       "      <td></td>\n",
       "      <td>4.1</td>\n",
       "      <td>Martin McDonagh</td>\n",
       "      <td>['Drama', 'Comedy', 'Crime']</td>\n",
       "      <td>2023-12</td>\n",
       "    </tr>\n",
       "    <tr>\n",
       "      <th>1</th>\n",
       "      <td>2023-12-25</td>\n",
       "      <td>The Nightmare Before Christmas</td>\n",
       "      <td>1993</td>\n",
       "      <td>3.5</td>\n",
       "      <td>3.9</td>\n",
       "      <td>Henry Selick</td>\n",
       "      <td>['Family', 'Animation', 'Fantasy']</td>\n",
       "      <td>2023-12</td>\n",
       "    </tr>\n",
       "    <tr>\n",
       "      <th>2</th>\n",
       "      <td>2023-12-16</td>\n",
       "      <td>The Matrix</td>\n",
       "      <td>1999</td>\n",
       "      <td>5.0</td>\n",
       "      <td>4.2</td>\n",
       "      <td>Lilly Wachowski</td>\n",
       "      <td>['Science Fiction', 'Action']</td>\n",
       "      <td>2023-12</td>\n",
       "    </tr>\n",
       "    <tr>\n",
       "      <th>3</th>\n",
       "      <td>2023-12-11</td>\n",
       "      <td>The Hunger Games</td>\n",
       "      <td>2012</td>\n",
       "      <td></td>\n",
       "      <td>3.6</td>\n",
       "      <td>Gary Ross</td>\n",
       "      <td>['Fantasy', 'Science Fiction', 'Adventure']</td>\n",
       "      <td>2023-12</td>\n",
       "    </tr>\n",
       "    <tr>\n",
       "      <th>4</th>\n",
       "      <td>2023-12-10</td>\n",
       "      <td>The Hunger Games: The Ballad of Songbirds &amp; Sn...</td>\n",
       "      <td>2023</td>\n",
       "      <td>3.5</td>\n",
       "      <td>3.6</td>\n",
       "      <td>Francis Lawrence</td>\n",
       "      <td>['Science Fiction', 'Drama', 'Action']</td>\n",
       "      <td>2023-12</td>\n",
       "    </tr>\n",
       "  </tbody>\n",
       "</table>\n",
       "</div>"
      ],
      "text/plain": [
       "  Watched Date                                          Film Name Film Year  \\\n",
       "0   2023-12-25                                          In Bruges      2008   \n",
       "1   2023-12-25                     The Nightmare Before Christmas      1993   \n",
       "2   2023-12-16                                         The Matrix      1999   \n",
       "3   2023-12-11                                   The Hunger Games      2012   \n",
       "4   2023-12-10  The Hunger Games: The Ballad of Songbirds & Sn...      2023   \n",
       "\n",
       "  My Rating General Rating          Director  \\\n",
       "0                      4.1   Martin McDonagh   \n",
       "1       3.5            3.9      Henry Selick   \n",
       "2       5.0            4.2   Lilly Wachowski   \n",
       "3                      3.6         Gary Ross   \n",
       "4       3.5            3.6  Francis Lawrence   \n",
       "\n",
       "                                        Genres    Month  \n",
       "0                 ['Drama', 'Comedy', 'Crime']  2023-12  \n",
       "1           ['Family', 'Animation', 'Fantasy']  2023-12  \n",
       "2                ['Science Fiction', 'Action']  2023-12  \n",
       "3  ['Fantasy', 'Science Fiction', 'Adventure']  2023-12  \n",
       "4       ['Science Fiction', 'Drama', 'Action']  2023-12  "
      ]
     },
     "metadata": {},
     "output_type": "display_data"
    },
    {
     "name": "stdout",
     "output_type": "stream",
     "text": [
      "<class 'pandas.core.frame.DataFrame'>\n",
      "RangeIndex: 108 entries, 0 to 107\n",
      "Data columns (total 8 columns):\n",
      " #   Column          Non-Null Count  Dtype \n",
      "---  ------          --------------  ----- \n",
      " 0   Watched Date    108 non-null    object\n",
      " 1   Film Name       108 non-null    object\n",
      " 2   Film Year       108 non-null    object\n",
      " 3   My Rating       108 non-null    object\n",
      " 4   General Rating  108 non-null    object\n",
      " 5   Director        108 non-null    object\n",
      " 6   Genres          108 non-null    object\n",
      " 7   Month           108 non-null    object\n",
      "dtypes: object(8)\n",
      "memory usage: 6.9+ KB\n"
     ]
    }
   ],
   "source": [
    "import csv\n",
    "import pandas as pd\n",
    "\n",
    "# Specify the path to your CSV file using forward slashes\n",
    "csv_file_path = 'C:/Users/ACER/Desktop/ders notları/2-2/CS210/project/df_real.csv'\n",
    "\n",
    "# Reading data from CSV file into a DataFrame\n",
    "with open(csv_file_path, 'r') as file:\n",
    "    # Create a CSV reader object\n",
    "    csv_reader = csv.reader(file)\n",
    "\n",
    "    # Convert the CSV data to a list of lists\n",
    "    data = list(csv_reader)\n",
    "\n",
    "# Convert the list of lists to a DataFrame\n",
    "df = pd.DataFrame(data[1:], columns=data[0])\n",
    "\n",
    "# Display the DataFrame\n",
    "display(df.head())\n",
    "df.info()"
   ]
  },
  {
   "cell_type": "code",
   "execution_count": 2,
   "metadata": {},
   "outputs": [],
   "source": [
    "import pandas as pd\n",
    "import matplotlib.pyplot as plt\n",
    "import matplotlib.colors as mcolors\n",
    "import seaborn as sns\n",
    "import plotly.express as px \n",
    "import numpy as np\n",
    "import scipy.stats as stats\n",
    "import plotly.graph_objects as go\n",
    "from matplotlib.patches import FancyBboxPatch\n",
    "from matplotlib.patches import Rectangle"
   ]
  },
  {
   "cell_type": "code",
   "execution_count": 3,
   "metadata": {},
   "outputs": [
    {
     "data": {
      "image/png": "[encoded data removed]",
      "text/plain": [
       "<Figure size 1008x360 with 1 Axes>"
      ]
     },
     "metadata": {},
     "output_type": "display_data"
    }
   ],
   "source": [
    "# Convert numeric format\n",
    "df['My Rating'] = pd.to_numeric(df['My Rating'], errors='coerce')\n",
    "\n",
    "# Specify the edges of the bins to get exactly 10 bars\n",
    "bins = [0.5, 1.0, 1.5, 2.0, 2.5, 3.0, 3.5, 4.0, 4.5, 5.0]\n",
    "\n",
    "# Create a DataFrame with all possible rating values from 0.5 to 5\n",
    "all_ratings = pd.DataFrame({'My Rating': [round(val, 1) for val in bins]})\n",
    "\n",
    "# Get counts for each rating value\n",
    "counts = df['My Rating'].dropna().value_counts().sort_index()\n",
    "\n",
    "# Merge all_ratings with counts\n",
    "result = pd.merge(all_ratings, counts, how='left', left_on='My Rating', right_index=True)\n",
    "\n",
    "# Fill NaN values with 0\n",
    "result['My Rating_y'] = result['My Rating_y'].fillna(0).astype(int)\n",
    "\n",
    "# Rename the columns for clarity\n",
    "result.columns = ['My Rating', 'Count']\n",
    "\n",
    "# Extract the 'Count' column from the result DataFrame\n",
    "counts_list = result['Count'].tolist()\n",
    "\n",
    "# Set the size of the figure (width, height)\n",
    "fig = plt.figure(figsize=(14, 5))\n",
    "\n",
    "# Set the background color for the entire plot\n",
    "fig.patch.set_facecolor('#283747')  # Dark background color\n",
    "ax = plt.axes()\n",
    "ax.set_facecolor(\"#283747\")\n",
    "# Set the borders of the chart to white\n",
    "ax.spines['bottom'].set_color('white')\n",
    "ax.spines['top'].set_color('white')\n",
    "ax.spines['right'].set_color('white')\n",
    "ax.spines['left'].set_color('white')\n",
    "\n",
    "positions = range(len(counts_list))\n",
    "\n",
    "# Use Seaborn's 'mako' color palette for a dark-to-light transition\n",
    "colors = sns.color_palette(\"ch:start=.5, rot=-.75\", n_colors=len(positions))\n",
    "bars = plt.bar(positions, counts_list, capstyle='round', linewidth=1.0, color=colors, edgecolor='white')\n",
    "\n",
    "plt.xticks(positions, bins, fontsize=14, color='white')\n",
    "\n",
    "# Remove the grid\n",
    "plt.grid(False)\n",
    "\n",
    "# Remove Y labels\n",
    "plt.yticks([])\n",
    "\n",
    "# Show rounded values above bars\n",
    "for index, value in enumerate(counts_list):\n",
    "    plt.text(index, value + 0.1, str(round(value)), ha='center', va='bottom', color='white', fontsize=14)  # Set text color to white and round the value\n",
    "\n",
    "# Add x, y labels, and title\n",
    "plt.xlabel('My Rating', fontsize=14, color='white')\n",
    "plt.ylabel('Number of Movies I Rate', fontsize=14, color='white')\n",
    "plt.title('Bar Chart of My Ratings', fontsize=16, color='white')\n",
    "\n",
    "plt.show()\n"
   ]
  },
  {
   "cell_type": "code",
   "execution_count": 4,
   "metadata": {},
   "outputs": [
    {
     "name": "stdout",
     "output_type": "stream",
     "text": [
      "'Drama'       70\n",
      "'Comedy'      32\n",
      "'Thriller'    27\n",
      "'Crime'       23\n",
      "'Mystery'     17\n",
      "'Horror'      16\n",
      "'Romance'     13\n",
      "'Fantasy'     11\n",
      "'Action'      10\n",
      "'History'     10\n",
      "Name: Genre, dtype: int64\n"
     ]
    },
    {
     "data": {
      "image/png": "[encoded data removed]",
      "text/plain": [
       "<Figure size 1008x504 with 1 Axes>"
      ]
     },
     "metadata": {},
     "output_type": "display_data"
    }
   ],
   "source": [
    "\n",
    "# 'Genres' column contains lists,convert them to strings\n",
    "df['Genres'] = df['Genres'].apply(lambda x: ', '.join(x) if isinstance(x, list) else x)\n",
    "\n",
    "# Remove square brackets from the 'Genres' column\n",
    "df['Genres'] = df['Genres'].str.strip('[]')\n",
    "\n",
    "# Split the genres into separate rows\n",
    "genre_df = df['Genres'].str.split(', ', expand=True).stack().reset_index(level=1, drop=True).rename('Genre')\n",
    "\n",
    "# Count the occurrences of each genre\n",
    "genre_counts = genre_df.value_counts()\n",
    "\n",
    "# Apply threshold for genres\n",
    "threshold = 10\n",
    "filtered_genre_counts = genre_counts[genre_counts >= threshold]\n",
    "print(filtered_genre_counts)\n",
    "# Set the size of the figure (width, height)\n",
    "fig = plt.figure(figsize=(14, 7))\n",
    "\n",
    "# Set the background color for the entire plot\n",
    "fig.patch.set_facecolor('#7D6E83')  # Dark background color\n",
    "ax = plt.axes()\n",
    "ax.set_facecolor(\"#7D6E83\")\n",
    "# Set the borders of the chart to white\n",
    "ax.spines['bottom'].set_color('white')\n",
    "ax.spines['top'].set_color('white')\n",
    "ax.spines['right'].set_color('white')\n",
    "ax.spines['left'].set_color('white')\n",
    "\n",
    "# Use Seaborn's 'mako' color palette for a dark-to-light transition\n",
    "colors = sns.color_palette(\"mako\", n_colors=len(filtered_genre_counts))\n",
    "\n",
    "# Increase the linewidth to make the rounded ends greater\n",
    "bars = plt.bar(range(len(filtered_genre_counts)), filtered_genre_counts, edgecolor='white', linewidth=0, color=colors, capstyle='round')\n",
    "\n",
    "# Add FancyBboxPatch to each bar for rounded corners with increased roundness\n",
    "for index, (bar, count) in enumerate(zip(bars, filtered_genre_counts)):\n",
    "    bbox = FancyBboxPatch((index - 0.4, 0), 0.8, count, boxstyle=\"round,pad=0.02, rounding_size=0.3\", linewidth=0, edgecolor='white', facecolor=bar.get_facecolor())\n",
    "    plt.gca().add_patch(bbox)\n",
    "\n",
    "plt.xticks(range(len(filtered_genre_counts)), filtered_genre_counts.index, rotation=45, ha='right', fontsize=14, color='white')  # Rotate x-axis labels for better visibility\n",
    "\n",
    "# Remove the grid\n",
    "plt.grid(False)\n",
    "\n",
    "# Remove Y labels\n",
    "plt.yticks([])\n",
    "\n",
    "# Show values above bars\n",
    "for index, value in enumerate(filtered_genre_counts):\n",
    "    plt.text(index, value + 0.1, str(value), ha='center', va='bottom', color='white', fontsize=14)  # Set text color to white\n",
    "\n",
    "# Add x, y labels, and title\n",
    "plt.xlabel('Genres', fontsize=14, color='white')\n",
    "plt.ylabel('Frequency', fontsize=14, color='white')\n",
    "plt.title('Bar Chart of Most Watched Genres', fontsize=16, color='white')\n",
    "\n",
    "plt.tight_layout()  # Adjust layout to prevent clipping of x-axis labels\n",
    "plt.show()\n"
   ]
  },
  {
   "cell_type": "code",
   "execution_count": 5,
   "metadata": {},
   "outputs": [
    {
     "data": {
      "image/png": "[encoded data removed]",
      "text/plain": [
       "<Figure size 1296x576 with 1 Axes>"
      ]
     },
     "metadata": {},
     "output_type": "display_data"
    }
   ],
   "source": [
    "copy = df.copy()\n",
    "\n",
    "# Convert 'Watched Date' to datetime format\n",
    "copy['Watched Date'] = pd.to_datetime(copy['Watched Date'])\n",
    "\n",
    "# Extract the month and year information\n",
    "copy['Month'] = copy['Watched Date'].dt.to_period('M')\n",
    "\n",
    "# Calculate the average rating for each month\n",
    "monthly_avg_rating = copy.groupby('Month')['My Rating'].mean().reset_index()\n",
    "\n",
    "# Set the size of the figure (width, height)\n",
    "fig = plt.figure(figsize=(18, 8))\n",
    "\n",
    "# Set the background color for the entire plot\n",
    "fig.patch.set_facecolor('#763857')  # Dark background color\n",
    "ax = plt.axes()\n",
    "ax.set_facecolor(\"#763857\")\n",
    "# Set the borders of the chart to white\n",
    "ax.spines['bottom'].set_color('white')\n",
    "ax.spines['top'].set_color('white')\n",
    "ax.spines['right'].set_color('white')\n",
    "ax.spines['left'].set_color('white')\n",
    "\n",
    "\n",
    "# Use Seaborn's 'mako' color palette for a dark-to-light transition\n",
    "colors = sns.color_palette(\"Spectral\", n_colors=len(monthly_avg_rating))\n",
    "\n",
    "# Increase the linewidth to make the rounded ends greater\n",
    "bars = plt.bar(monthly_avg_rating['Month'].astype(str), monthly_avg_rating['My Rating'], edgecolor='white', linewidth=0, color=colors, capstyle='round')\n",
    "\n",
    "# Add FancyBboxPatch to each bar for rounded corners with increased roundness\n",
    "for index, (bar, rating) in enumerate(zip(bars, monthly_avg_rating['My Rating'])):\n",
    "    bbox = FancyBboxPatch((index - 0.4, 0), 0.8, rating, boxstyle=\"round,pad=0.02, rounding_size=0.1\", linewidth=0, edgecolor='white', facecolor=bar.get_facecolor())\n",
    "    plt.gca().add_patch(bbox)\n",
    "\n",
    "# Remove the grid\n",
    "plt.grid(False)\n",
    "\n",
    "# Remove Y labels\n",
    "plt.yticks([], color='white')\n",
    "\n",
    "# Show values above bars\n",
    "for index, rating in enumerate(monthly_avg_rating['My Rating']):\n",
    "    plt.text(index, rating + 0.1, f'{rating:.2f}', ha='center', va='bottom', color='white', fontsize=14)  # Set text color to white\n",
    "\n",
    "# Rotate x-axis labels vertically\n",
    "plt.xticks(rotation=45, fontsize = 14, color='white')\n",
    "\n",
    "# Add x, y labels, and title\n",
    "plt.xlabel('Month', fontsize=14, color='white')\n",
    "plt.ylabel('My Average Rating', fontsize=14, color='white')\n",
    "plt.title('Monthly Average of My Ratings of Watched Films', fontsize=16, color='white')\n",
    "\n",
    "# Remove the borders\n",
    "plt.box(False)\n",
    "\n",
    "plt.tight_layout()  # Adjust layout to prevent clipping of x-axis labels\n",
    "plt.show()\n"
   ]
  },
  {
   "cell_type": "code",
   "execution_count": 6,
   "metadata": {},
   "outputs": [
    {
     "data": {
      "image/png": "[encoded data removed]",
      "text/plain": [
       "<Figure size 1296x576 with 1 Axes>"
      ]
     },
     "metadata": {},
     "output_type": "display_data"
    }
   ],
   "source": [
    "copy = df.copy()\n",
    "\n",
    "# Convert 'Watched Date' to datetime format\n",
    "copy['Watched Date'] = pd.to_datetime(copy['Watched Date'])\n",
    "\n",
    "# Extract the month and year information\n",
    "copy['Month'] = copy['Watched Date'].dt.to_period('M')\n",
    "\n",
    "# Convert 'General Rating' to numeric (handle errors by setting them to NaN)\n",
    "copy['General Rating'] = pd.to_numeric(copy['General Rating'], errors='coerce')\n",
    "\n",
    "# Drop rows with NaN values in 'General Rating'\n",
    "copy = copy.dropna(subset=['General Rating'])\n",
    "\n",
    "# Calculate the average general rating for each month\n",
    "monthly_avg_general_rating = copy.groupby('Month')['General Rating'].mean().reset_index()\n",
    "\n",
    "# Set the size of the figure (width, height)\n",
    "fig = plt.figure(figsize=(18, 8))\n",
    "\n",
    "# Set the background color for the entire plot\n",
    "fig.patch.set_facecolor('#763857')  # Dark background color\n",
    "ax = plt.axes()\n",
    "ax.set_facecolor(\"#763857\")\n",
    "# Set the borders of the chart to white\n",
    "ax.spines['bottom'].set_color('white')\n",
    "ax.spines['top'].set_color('white')\n",
    "ax.spines['right'].set_color('white')\n",
    "ax.spines['left'].set_color('white')\n",
    "\n",
    "# Use Seaborn's 'mako' color palette for a dark-to-light transition\n",
    "colors = sns.color_palette(\"Spectral\", n_colors=len(monthly_avg_general_rating))\n",
    "\n",
    "# Increase the linewidth to make the rounded ends greater\n",
    "bars = plt.bar(monthly_avg_general_rating['Month'].astype(str), monthly_avg_general_rating['General Rating'], edgecolor='white', linewidth=0, color=colors, capstyle='round')\n",
    "\n",
    "# Add FancyBboxPatch to each bar for rounded corners with increased roundness\n",
    "for index, (bar, rating) in enumerate(zip(bars, monthly_avg_general_rating['General Rating'])):\n",
    "    bbox = FancyBboxPatch((index - 0.4, 0), 0.8, rating, boxstyle=\"round,pad=0.02, rounding_size=0.1\", linewidth=0, edgecolor='white', facecolor=bar.get_facecolor())\n",
    "    plt.gca().add_patch(bbox)\n",
    "\n",
    "# Remove the grid\n",
    "plt.grid(False)\n",
    "\n",
    "# Remove Y labels\n",
    "plt.yticks([])\n",
    "\n",
    "# Show values above bars\n",
    "for index, rating in enumerate(monthly_avg_general_rating['General Rating']):\n",
    "    plt.text(index, rating + 0.1, f'{rating:.2f}', ha='center', va='bottom', color='white', fontsize=14)  # Set text color to white\n",
    "\n",
    "# Rotate x-axis labels vertically\n",
    "plt.xticks(rotation=45, fontsize=14, color='white')\n",
    "\n",
    "# Add x, y labels, and title\n",
    "plt.xlabel('Month', fontsize=14, color='white')\n",
    "plt.ylabel('Average General Rating', fontsize=14, color='white')\n",
    "plt.title('Monthly Average General Rating of Watched Films', fontsize=16, color='white')\n",
    "\n",
    "# Remove the borders\n",
    "plt.box(False)\n",
    "\n",
    "plt.tight_layout()  # Adjust layout to prevent clipping of x-axis labels\n",
    "plt.show()\n"
   ]
  },
  {
   "cell_type": "code",
   "execution_count": 7,
   "metadata": {},
   "outputs": [
    {
     "data": {
      "image/png": "[encoded data removed]",
      "text/plain": [
       "<Figure size 1224x576 with 2 Axes>"
      ]
     },
     "metadata": {},
     "output_type": "display_data"
    }
   ],
   "source": [
    "copy = df.copy()\n",
    "\n",
    "# Convert 'Watched Date' to datetime format\n",
    "copy['Watched Date'] = pd.to_datetime(copy['Watched Date'])\n",
    "\n",
    "# Extract the month and year information\n",
    "copy['Month'] = copy['Watched Date'].dt.to_period('M')\n",
    "\n",
    "# Convert 'General Rating' to numeric (handle errors by setting them to NaN)\n",
    "copy['General Rating'] = pd.to_numeric(copy['General Rating'], errors='coerce')\n",
    "\n",
    "# Drop rows with NaN values in 'General Rating'\n",
    "copy = copy.dropna(subset=['General Rating'])\n",
    "\n",
    "# Calculate the average general rating for each month\n",
    "monthly_avg_general_rating = copy.groupby('Month')['General Rating'].mean().reset_index()\n",
    "\n",
    "# Set the size of the figure (width, height)\n",
    "fig, ax1 = plt.subplots(figsize=(17, 8))\n",
    "\n",
    "# Set the background color for the entire plot\n",
    "fig.patch.set_facecolor('#2D3250')  # Dark background color\n",
    "ax1.set_facecolor(\"#2D3250\")\n",
    "# Set the borders of the chart to white\n",
    "ax1.spines['bottom'].set_color('white')\n",
    "ax1.spines['top'].set_color('white')\n",
    "ax1.spines['right'].set_color('white')\n",
    "ax1.spines['left'].set_color('white')\n",
    "\n",
    "# Use Seaborn's 'mako' color palette for a dark-to-light transition\n",
    "colors = sns.color_palette(\"crest\", n_colors=len(monthly_avg_general_rating))\n",
    "\n",
    "# Bar chart for General Rating\n",
    "bars = ax1.bar(monthly_avg_general_rating['Month'].astype(str), monthly_avg_general_rating['General Rating'], edgecolor='white', linewidth=0, color=colors, capstyle='round')\n",
    "\n",
    "# Add FancyBboxPatch to each bar for rounded corners with increased roundness\n",
    "for index, (bar, rating) in enumerate(zip(bars, monthly_avg_general_rating['General Rating'])):\n",
    "    bbox = FancyBboxPatch((index - 0.4, 0), 0.8, rating, boxstyle=\"round,pad=0.02, rounding_size=0.1\", linewidth=0, edgecolor='white', facecolor=bar.get_facecolor())\n",
    "    ax1.add_patch(bbox)\n",
    "\n",
    "# Line chart for My Rating\n",
    "ax2 = ax1.twinx()  # Create a secondary y-axis\n",
    "line = ax2.plot(monthly_avg_general_rating['Month'].astype(str), df.groupby('Month')['My Rating'].mean().values, color='white', marker='o', label='My Rating', linewidth=2)\n",
    "ax2.set_ylim(0, max(copy.groupby('Month')['My Rating'].mean().values) + 1)\n",
    "\n",
    "# Show values above line\n",
    "for index, rating in enumerate(copy.groupby('Month')['My Rating'].mean().values):\n",
    "    ax2.text(index, rating + 0.1, f'{rating:.2f}', ha='center', va='bottom', color='white', fontsize=14)  # Set text color to orange\n",
    "\n",
    "# Remove the grid\n",
    "ax1.grid(False)\n",
    "ax2.grid(False)\n",
    "# Set the borders of the chart to white\n",
    "ax2.spines['bottom'].set_color('white')\n",
    "ax2.spines['top'].set_color('white')\n",
    "ax2.spines['right'].set_color('white')\n",
    "ax2.spines['left'].set_color('white')\n",
    "\n",
    "# Remove Y labels for the bar chart\n",
    "ax1.set_yticks([])\n",
    "\n",
    "# Rotate x-axis labels vertically\n",
    "ax1.set_xticklabels(monthly_avg_general_rating['Month'].astype(str), rotation=45, fontsize=14, color='white')\n",
    "\n",
    "# Set y tick labels to white for both axes\n",
    "ax1.tick_params(axis='y', colors='white')\n",
    "ax2.tick_params(axis='y', colors='white')\n",
    "\n",
    "# Add x, y labels, and title\n",
    "ax1.set_xlabel('Month', fontsize=14, color='white')\n",
    "ax1.set_ylabel('Average General Rating', fontsize=14, color='white')\n",
    "ax2.set_ylabel('My Average Rating', fontsize=14, color='white')\n",
    "plt.title('Monthly Average Ratings of Watched Films', fontsize=16, color='white')\n",
    "\n",
    "plt.tight_layout()  # Adjust layout to prevent clipping of x-axis labels\n",
    "plt.show()\n"
   ]
  },
  {
   "cell_type": "code",
   "execution_count": 8,
   "metadata": {},
   "outputs": [
    {
     "name": "stdout",
     "output_type": "stream",
     "text": [
      "Month 1: My Rating = 4.00, General Rating = 3.85\n",
      "Month 2: My Rating = 3.50, General Rating = 3.53\n",
      "Month 3: My Rating = 3.50, General Rating = 4.00\n",
      "Month 4: My Rating = 3.17, General Rating = 3.60\n",
      "Month 5: My Rating = 3.83, General Rating = 4.07\n",
      "Month 6: My Rating = 3.75, General Rating = 3.73\n",
      "Month 7: My Rating = 3.25, General Rating = 3.90\n",
      "Month 8: My Rating = 3.67, General Rating = 3.67\n",
      "Month 9: My Rating = 3.69, General Rating = 3.89\n",
      "Month 10: My Rating = 3.61, General Rating = 3.74\n",
      "Month 11: My Rating = 3.50, General Rating = 3.93\n",
      "Month 12: My Rating = 3.60, General Rating = 3.82\n",
      "Month 13: My Rating = 3.86, General Rating = 3.99\n",
      "Month 14: My Rating = 3.50, General Rating = 3.79\n",
      "Month 15: My Rating = 2.67, General Rating = 3.80\n",
      "Month 16: My Rating = 3.38, General Rating = 3.65\n",
      "Month 17: My Rating = 3.67, General Rating = 3.83\n",
      "Month 18: My Rating = 3.70, General Rating = 3.92\n",
      "Month 19: My Rating = 3.50, General Rating = 3.95\n",
      "Month 20: My Rating = 3.67, General Rating = 4.18\n",
      "Month 21: My Rating = 3.42, General Rating = 4.00\n",
      "Month 22: My Rating = 3.70, General Rating = 4.06\n",
      "Month 23: My Rating = 4.00, General Rating = 3.88\n"
     ]
    }
   ],
   "source": [
    "# Print monthly average values of 'My Rating' and 'General Rating'\n",
    "for index, (month, my_rating, general_rating) in enumerate(zip(monthly_avg_general_rating['Month'], df.groupby('Month')['My Rating'].mean(), monthly_avg_general_rating['General Rating'])):\n",
    "    print(f\"Month {index + 1}: My Rating = {my_rating:.2f}, General Rating = {general_rating:.2f}\")"
   ]
  },
  {
   "cell_type": "code",
   "execution_count": 9,
   "metadata": {},
   "outputs": [
    {
     "name": "stdout",
     "output_type": "stream",
     "text": [
      "Correlation Coefficient: 0.28318259292927217\n"
     ]
    }
   ],
   "source": [
    "copy = df.copy()\n",
    "\n",
    "# Convert the 'My Rating' and 'General Rating' columns to numeric\n",
    "copy['My Rating'] = pd.to_numeric(copy['My Rating'], errors='coerce')\n",
    "copy['General Rating'] = pd.to_numeric(copy['General Rating'], errors='coerce')\n",
    "\n",
    "# Group by 'Month' and calculate the mean for 'My Rating' and 'General Rating'\n",
    "my_ratings_monthly = copy.groupby('Month')['My Rating'].mean()\n",
    "general_ratings_monthly = copy.groupby('Month')['General Rating'].mean()\n",
    "\n",
    "# Calculate the correlation coefficient\n",
    "correlation_coefficient = my_ratings_monthly.corr(general_ratings_monthly)\n",
    "\n",
    "print(f\"Correlation Coefficient: {correlation_coefficient}\")"
   ]
  },
  {
   "cell_type": "code",
   "execution_count": 10,
   "metadata": {},
   "outputs": [
    {
     "data": {
      "application/vnd.plotly.v1+json": {
       "config": {
        "plotlyServerURL": "https://plot.ly"
       },
       "data": [
        {
         "hovertemplate": "Monthly Average of My Ratings=%{marker.color}<br>Monthly Average of General Ratings=%{y}<br>size=%{marker.size}<extra></extra>",
         "legendgroup": "",
         "marker": {
          "color": [
           4,
           3.5,
           3.5,
           3.1666666666666665,
           3.8333333333333335,
           3.75,
           3.25,
           3.6666666666666665,
           3.6875,
           3.611111111111111,
           3.5,
           3.6,
           3.857142857142857,
           3.5,
           2.6666666666666665,
           3.375,
           3.6666666666666665,
           3.7,
           3.5,
           3.6666666666666665,
           3.4166666666666665,
           3.7,
           4
          ],
          "coloraxis": "coloraxis",
          "size": [
           4,
           3.5,
           3.5,
           3.1666666666666665,
           3.8333333333333335,
           3.75,
           3.25,
           3.6666666666666665,
           3.6875,
           3.611111111111111,
           3.5,
           3.6,
           3.857142857142857,
           3.5,
           2.6666666666666665,
           3.375,
           3.6666666666666665,
           3.7,
           3.5,
           3.6666666666666665,
           3.4166666666666665,
           3.7,
           4
          ],
          "sizemode": "area",
          "sizeref": 0.0625,
          "symbol": "circle"
         },
         "mode": "markers",
         "name": "",
         "orientation": "v",
         "showlegend": false,
         "type": "scatter",
         "x": [
          4,
          3.5,
          3.5,
          3.1666666666666665,
          3.8333333333333335,
          3.75,
          3.25,
          3.6666666666666665,
          3.6875,
          3.611111111111111,
          3.5,
          3.6,
          3.857142857142857,
          3.5,
          2.6666666666666665,
          3.375,
          3.6666666666666665,
          3.7,
          3.5,
          3.6666666666666665,
          3.4166666666666665,
          3.7,
          4
         ],
         "xaxis": "x",
         "y": [
          3.8499999999999996,
          3.533333333333333,
          4,
          3.5999999999999996,
          4.066666666666666,
          3.725,
          3.9,
          3.6666666666666665,
          3.8874999999999997,
          3.744444444444445,
          3.9333333333333336,
          3.8200000000000003,
          3.9875,
          3.7875,
          3.8,
          3.65,
          3.8333333333333335,
          3.9200000000000004,
          3.9499999999999997,
          4.183333333333334,
          4,
          4.06,
          3.88
         ],
         "yaxis": "y"
        }
       ],
       "layout": {
        "coloraxis": {
         "colorbar": {
          "title": {
           "text": "Monthly Average of My Ratings"
          }
         },
         "colorscale": [
          [
           0,
           "#440154"
          ],
          [
           0.1111111111111111,
           "#482878"
          ],
          [
           0.2222222222222222,
           "#3e4989"
          ],
          [
           0.3333333333333333,
           "#31688e"
          ],
          [
           0.4444444444444444,
           "#26828e"
          ],
          [
           0.5555555555555556,
           "#1f9e89"
          ],
          [
           0.6666666666666666,
           "#35b779"
          ],
          [
           0.7777777777777778,
           "#6ece58"
          ],
          [
           0.8888888888888888,
           "#b5de2b"
          ],
          [
           1,
           "#fde725"
          ]
         ]
        },
        "font": {
         "color": "#FFFFFF"
        },
        "height": 600,
        "legend": {
         "itemsizing": "constant",
         "tracegroupgap": 0
        },
        "paper_bgcolor": "#2D3250",
        "plot_bgcolor": "#2D3250",
        "template": {
         "data": {
          "bar": [
           {
            "error_x": {
             "color": "#2a3f5f"
            },
            "error_y": {
             "color": "#2a3f5f"
            },
            "marker": {
             "line": {
              "color": "#E5ECF6",
              "width": 0.5
             },
             "pattern": {
              "fillmode": "overlay",
              "size": 10,
              "solidity": 0.2
             }
            },
            "type": "bar"
           }
          ],
          "barpolar": [
           {
            "marker": {
             "line": {
              "color": "#E5ECF6",
              "width": 0.5
             },
             "pattern": {
              "fillmode": "overlay",
              "size": 10,
              "solidity": 0.2
             }
            },
            "type": "barpolar"
           }
          ],
          "carpet": [
           {
            "aaxis": {
             "endlinecolor": "#2a3f5f",
             "gridcolor": "white",
             "linecolor": "white",
             "minorgridcolor": "white",
             "startlinecolor": "#2a3f5f"
            },
            "baxis": {
             "endlinecolor": "#2a3f5f",
             "gridcolor": "white",
             "linecolor": "white",
             "minorgridcolor": "white",
             "startlinecolor": "#2a3f5f"
            },
            "type": "carpet"
           }
          ],
          "choropleth": [
           {
            "colorbar": {
             "outlinewidth": 0,
             "ticks": ""
            },
            "type": "choropleth"
           }
          ],
          "contour": [
           {
            "colorbar": {
             "outlinewidth": 0,
             "ticks": ""
            },
            "colorscale": [
             [
              0,
              "#0d0887"
             ],
             [
              0.1111111111111111,
              "#46039f"
             ],
             [
              0.2222222222222222,
              "#7201a8"
             ],
             [
              0.3333333333333333,
              "#9c179e"
             ],
             [
              0.4444444444444444,
              "#bd3786"
             ],
             [
              0.5555555555555556,
              "#d8576b"
             ],
             [
              0.6666666666666666,
              "#ed7953"
             ],
             [
              0.7777777777777778,
              "#fb9f3a"
             ],
             [
              0.8888888888888888,
              "#fdca26"
             ],
             [
              1,
              "#f0f921"
             ]
            ],
            "type": "contour"
           }
          ],
          "contourcarpet": [
           {
            "colorbar": {
             "outlinewidth": 0,
             "ticks": ""
            },
            "type": "contourcarpet"
           }
          ],
          "heatmap": [
           {
            "colorbar": {
             "outlinewidth": 0,
             "ticks": ""
            },
            "colorscale": [
             [
              0,
              "#0d0887"
             ],
             [
              0.1111111111111111,
              "#46039f"
             ],
             [
              0.2222222222222222,
              "#7201a8"
             ],
             [
              0.3333333333333333,
              "#9c179e"
             ],
             [
              0.4444444444444444,
              "#bd3786"
             ],
             [
              0.5555555555555556,
              "#d8576b"
             ],
             [
              0.6666666666666666,
              "#ed7953"
             ],
             [
              0.7777777777777778,
              "#fb9f3a"
             ],
             [
              0.8888888888888888,
              "#fdca26"
             ],
             [
              1,
              "#f0f921"
             ]
            ],
            "type": "heatmap"
           }
          ],
          "heatmapgl": [
           {
            "colorbar": {
             "outlinewidth": 0,
             "ticks": ""
            },
            "colorscale": [
             [
              0,
              "#0d0887"
             ],
             [
              0.1111111111111111,
              "#46039f"
             ],
             [
              0.2222222222222222,
              "#7201a8"
             ],
             [
              0.3333333333333333,
              "#9c179e"
             ],
             [
              0.4444444444444444,
              "#bd3786"
             ],
             [
              0.5555555555555556,
              "#d8576b"
             ],
             [
              0.6666666666666666,
              "#ed7953"
             ],
             [
              0.7777777777777778,
              "#fb9f3a"
             ],
             [
              0.8888888888888888,
              "#fdca26"
             ],
             [
              1,
              "#f0f921"
             ]
            ],
            "type": "heatmapgl"
           }
          ],
          "histogram": [
           {
            "marker": {
             "pattern": {
              "fillmode": "overlay",
              "size": 10,
              "solidity": 0.2
             }
            },
            "type": "histogram"
           }
          ],
          "histogram2d": [
           {
            "colorbar": {
             "outlinewidth": 0,
             "ticks": ""
            },
            "colorscale": [
             [
              0,
              "#0d0887"
             ],
             [
              0.1111111111111111,
              "#46039f"
             ],
             [
              0.2222222222222222,
              "#7201a8"
             ],
             [
              0.3333333333333333,
              "#9c179e"
             ],
             [
              0.4444444444444444,
              "#bd3786"
             ],
             [
              0.5555555555555556,
              "#d8576b"
             ],
             [
              0.6666666666666666,
              "#ed7953"
             ],
             [
              0.7777777777777778,
              "#fb9f3a"
             ],
             [
              0.8888888888888888,
              "#fdca26"
             ],
             [
              1,
              "#f0f921"
             ]
            ],
            "type": "histogram2d"
           }
          ],
          "histogram2dcontour": [
           {
            "colorbar": {
             "outlinewidth": 0,
             "ticks": ""
            },
            "colorscale": [
             [
              0,
              "#0d0887"
             ],
             [
              0.1111111111111111,
              "#46039f"
             ],
             [
              0.2222222222222222,
              "#7201a8"
             ],
             [
              0.3333333333333333,
              "#9c179e"
             ],
             [
              0.4444444444444444,
              "#bd3786"
             ],
             [
              0.5555555555555556,
              "#d8576b"
             ],
             [
              0.6666666666666666,
              "#ed7953"
             ],
             [
              0.7777777777777778,
              "#fb9f3a"
             ],
             [
              0.8888888888888888,
              "#fdca26"
             ],
             [
              1,
              "#f0f921"
             ]
            ],
            "type": "histogram2dcontour"
           }
          ],
          "mesh3d": [
           {
            "colorbar": {
             "outlinewidth": 0,
             "ticks": ""
            },
            "type": "mesh3d"
           }
          ],
          "parcoords": [
           {
            "line": {
             "colorbar": {
              "outlinewidth": 0,
              "ticks": ""
             }
            },
            "type": "parcoords"
           }
          ],
          "pie": [
           {
            "automargin": true,
            "type": "pie"
           }
          ],
          "scatter": [
           {
            "marker": {
             "colorbar": {
              "outlinewidth": 0,
              "ticks": ""
             }
            },
            "type": "scatter"
           }
          ],
          "scatter3d": [
           {
            "line": {
             "colorbar": {
              "outlinewidth": 0,
              "ticks": ""
             }
            },
            "marker": {
             "colorbar": {
              "outlinewidth": 0,
              "ticks": ""
             }
            },
            "type": "scatter3d"
           }
          ],
          "scattercarpet": [
           {
            "marker": {
             "colorbar": {
              "outlinewidth": 0,
              "ticks": ""
             }
            },
            "type": "scattercarpet"
           }
          ],
          "scattergeo": [
           {
            "marker": {
             "colorbar": {
              "outlinewidth": 0,
              "ticks": ""
             }
            },
            "type": "scattergeo"
           }
          ],
          "scattergl": [
           {
            "marker": {
             "colorbar": {
              "outlinewidth": 0,
              "ticks": ""
             }
            },
            "type": "scattergl"
           }
          ],
          "scattermapbox": [
           {
            "marker": {
             "colorbar": {
              "outlinewidth": 0,
              "ticks": ""
             }
            },
            "type": "scattermapbox"
           }
          ],
          "scatterpolar": [
           {
            "marker": {
             "colorbar": {
              "outlinewidth": 0,
              "ticks": ""
             }
            },
            "type": "scatterpolar"
           }
          ],
          "scatterpolargl": [
           {
            "marker": {
             "colorbar": {
              "outlinewidth": 0,
              "ticks": ""
             }
            },
            "type": "scatterpolargl"
           }
          ],
          "scatterternary": [
           {
            "marker": {
             "colorbar": {
              "outlinewidth": 0,
              "ticks": ""
             }
            },
            "type": "scatterternary"
           }
          ],
          "surface": [
           {
            "colorbar": {
             "outlinewidth": 0,
             "ticks": ""
            },
            "colorscale": [
             [
              0,
              "#0d0887"
             ],
             [
              0.1111111111111111,
              "#46039f"
             ],
             [
              0.2222222222222222,
              "#7201a8"
             ],
             [
              0.3333333333333333,
              "#9c179e"
             ],
             [
              0.4444444444444444,
              "#bd3786"
             ],
             [
              0.5555555555555556,
              "#d8576b"
             ],
             [
              0.6666666666666666,
              "#ed7953"
             ],
             [
              0.7777777777777778,
              "#fb9f3a"
             ],
             [
              0.8888888888888888,
              "#fdca26"
             ],
             [
              1,
              "#f0f921"
             ]
            ],
            "type": "surface"
           }
          ],
          "table": [
           {
            "cells": {
             "fill": {
              "color": "#EBF0F8"
             },
             "line": {
              "color": "white"
             }
            },
            "header": {
             "fill": {
              "color": "#C8D4E3"
             },
             "line": {
              "color": "white"
             }
            },
            "type": "table"
           }
          ]
         },
         "layout": {
          "annotationdefaults": {
           "arrowcolor": "#2a3f5f",
           "arrowhead": 0,
           "arrowwidth": 1
          },
          "autotypenumbers": "strict",
          "coloraxis": {
           "colorbar": {
            "outlinewidth": 0,
            "ticks": ""
           }
          },
          "colorscale": {
           "diverging": [
            [
             0,
             "#8e0152"
            ],
            [
             0.1,
             "#c51b7d"
            ],
            [
             0.2,
             "#de77ae"
            ],
            [
             0.3,
             "#f1b6da"
            ],
            [
             0.4,
             "#fde0ef"
            ],
            [
             0.5,
             "#f7f7f7"
            ],
            [
             0.6,
             "#e6f5d0"
            ],
            [
             0.7,
             "#b8e186"
            ],
            [
             0.8,
             "#7fbc41"
            ],
            [
             0.9,
             "#4d9221"
            ],
            [
             1,
             "#276419"
            ]
           ],
           "sequential": [
            [
             0,
             "#0d0887"
            ],
            [
             0.1111111111111111,
             "#46039f"
            ],
            [
             0.2222222222222222,
             "#7201a8"
            ],
            [
             0.3333333333333333,
             "#9c179e"
            ],
            [
             0.4444444444444444,
             "#bd3786"
            ],
            [
             0.5555555555555556,
             "#d8576b"
            ],
            [
             0.6666666666666666,
             "#ed7953"
            ],
            [
             0.7777777777777778,
             "#fb9f3a"
            ],
            [
             0.8888888888888888,
             "#fdca26"
            ],
            [
             1,
             "#f0f921"
            ]
           ],
           "sequentialminus": [
            [
             0,
             "#0d0887"
            ],
            [
             0.1111111111111111,
             "#46039f"
            ],
            [
             0.2222222222222222,
             "#7201a8"
            ],
            [
             0.3333333333333333,
             "#9c179e"
            ],
            [
             0.4444444444444444,
             "#bd3786"
            ],
            [
             0.5555555555555556,
             "#d8576b"
            ],
            [
             0.6666666666666666,
             "#ed7953"
            ],
            [
             0.7777777777777778,
             "#fb9f3a"
            ],
            [
             0.8888888888888888,
             "#fdca26"
            ],
            [
             1,
             "#f0f921"
            ]
           ]
          },
          "colorway": [
           "#636efa",
           "#EF553B",
           "#00cc96",
           "#ab63fa",
           "#FFA15A",
           "#19d3f3",
           "#FF6692",
           "#B6E880",
           "#FF97FF",
           "#FECB52"
          ],
          "font": {
           "color": "#2a3f5f"
          },
          "geo": {
           "bgcolor": "white",
           "lakecolor": "white",
           "landcolor": "#E5ECF6",
           "showlakes": true,
           "showland": true,
           "subunitcolor": "white"
          },
          "hoverlabel": {
           "align": "left"
          },
          "hovermode": "closest",
          "mapbox": {
           "style": "light"
          },
          "paper_bgcolor": "white",
          "plot_bgcolor": "#E5ECF6",
          "polar": {
           "angularaxis": {
            "gridcolor": "white",
            "linecolor": "white",
            "ticks": ""
           },
           "bgcolor": "#E5ECF6",
           "radialaxis": {
            "gridcolor": "white",
            "linecolor": "white",
            "ticks": ""
           }
          },
          "scene": {
           "xaxis": {
            "backgroundcolor": "#E5ECF6",
            "gridcolor": "white",
            "gridwidth": 2,
            "linecolor": "white",
            "showbackground": true,
            "ticks": "",
            "zerolinecolor": "white"
           },
           "yaxis": {
            "backgroundcolor": "#E5ECF6",
            "gridcolor": "white",
            "gridwidth": 2,
            "linecolor": "white",
            "showbackground": true,
            "ticks": "",
            "zerolinecolor": "white"
           },
           "zaxis": {
            "backgroundcolor": "#E5ECF6",
            "gridcolor": "white",
            "gridwidth": 2,
            "linecolor": "white",
            "showbackground": true,
            "ticks": "",
            "zerolinecolor": "white"
           }
          },
          "shapedefaults": {
           "line": {
            "color": "#2a3f5f"
           }
          },
          "ternary": {
           "aaxis": {
            "gridcolor": "white",
            "linecolor": "white",
            "ticks": ""
           },
           "baxis": {
            "gridcolor": "white",
            "linecolor": "white",
            "ticks": ""
           },
           "bgcolor": "#E5ECF6",
           "caxis": {
            "gridcolor": "white",
            "linecolor": "white",
            "ticks": ""
           }
          },
          "title": {
           "x": 0.05
          },
          "xaxis": {
           "automargin": true,
           "gridcolor": "white",
           "linecolor": "white",
           "ticks": "",
           "title": {
            "standoff": 15
           },
           "zerolinecolor": "white",
           "zerolinewidth": 2
          },
          "yaxis": {
           "automargin": true,
           "gridcolor": "white",
           "linecolor": "white",
           "ticks": "",
           "title": {
            "standoff": 15
           },
           "zerolinecolor": "white",
           "zerolinewidth": 2
          }
         }
        },
        "title": {
         "font": {
          "color": "#FFFFFF"
         },
         "text": "Scatter Chart: Monthly Average of My Rating vs. General Rating"
        },
        "width": 900,
        "xaxis": {
         "anchor": "y",
         "domain": [
          0,
          1
         ],
         "gridcolor": "#4A4E69",
         "range": [
          2.5,
          4.5
         ],
         "title": {
          "text": "Monthly Average of My Ratings"
         }
        },
        "yaxis": {
         "anchor": "x",
         "domain": [
          0,
          1
         ],
         "gridcolor": "#4A4E69",
         "range": [
          2.5,
          4.5
         ],
         "title": {
          "text": "Monthly Average of General Ratings"
         }
        }
       }
      }
     },
     "metadata": {},
     "output_type": "display_data"
    }
   ],
   "source": [
    "# Create a scatter chart with Plotly Express\n",
    "fig = px.scatter(x=df.groupby('Month')['My Rating'].mean(), y=monthly_avg_general_rating['General Rating'], \n",
    "                 color=df.groupby('Month')['My Rating'].mean(), size=df.groupby('Month')['My Rating'].mean(),\n",
    "                 labels={'x': 'Monthly Average of My Ratings', 'y': 'Monthly Average of General Ratings', 'color': 'Monthly Average of My Ratings'},\n",
    "                 title='Scatter Chart: Monthly Average of My Rating vs. General Rating',\n",
    "                 color_continuous_scale='Viridis', size_max=8, range_x=[2.5, 4.5], range_y=[2.5, 4.5])  # Adjust size_max as needed\n",
    "\n",
    "# Customize layout\n",
    "fig.update_layout(\n",
    "    paper_bgcolor='#2D3250',  # Dark background color\n",
    "    plot_bgcolor='#2D3250',  # Dark plot area color\n",
    "    font=dict(color='#FFFFFF'),  # Light text color\n",
    "    title=dict(font=dict(color='#FFFFFF')),  # Light title color\n",
    "    xaxis=dict(gridcolor='#4A4E69'),  # Light grid color\n",
    "    yaxis=dict(gridcolor='#4A4E69'),  # Light grid color\n",
    "    width=900,  # Set the width of the figure\n",
    "    height=600  # Set the height of the figure\n",
    ")\n",
    "\n",
    "# Show the plot\n",
    "fig.show()\n"
   ]
  },
  {
   "cell_type": "code",
   "execution_count": 11,
   "metadata": {},
   "outputs": [
    {
     "name": "stderr",
     "output_type": "stream",
     "text": [
      "C:\\Users\\ACER\\AppData\\Local\\Temp\\ipykernel_18504\\3414265315.py:29: FutureWarning:\n",
      "\n",
      "Value based partial slicing on non-monotonic DatetimeIndexes with non-existing keys is deprecated and will raise a KeyError in a future Version.\n",
      "\n",
      "C:\\Users\\ACER\\AppData\\Local\\Temp\\ipykernel_18504\\3414265315.py:29: FutureWarning:\n",
      "\n",
      "Dropping of nuisance columns in DataFrame reductions (with 'numeric_only=None') is deprecated; in a future version this will raise TypeError.  Select only valid columns before calling the reduction.\n",
      "\n"
     ]
    },
    {
     "data": {
      "image/png": "[encoded data removed]",
      "text/plain": [
       "<Figure size 1296x576 with 2 Axes>"
      ]
     },
     "metadata": {},
     "output_type": "display_data"
    }
   ],
   "source": [
    "# Convert 'Watched Date' to datetime format\n",
    "df['Watched Date'] = pd.to_datetime(df['Watched Date'])\n",
    "\n",
    "# Create a copy of the DataFrame\n",
    "copy = df.copy()\n",
    "\n",
    "# Convert 'General Rating' to numeric (handle errors by setting them to NaN)\n",
    "copy['General Rating'] = pd.to_numeric(copy['General Rating'], errors='coerce')\n",
    "\n",
    "# Drop rows with NaN values in 'General Rating'\n",
    "copy = copy.dropna(subset=['General Rating'])\n",
    "\n",
    "# Set the 'Watched Date' column as the index\n",
    "copy = copy.set_index('Watched Date')\n",
    "\n",
    "# Define the 3-month periods\n",
    "periods = [\n",
    "    ('2022-01-01', '2022-03-31'),\n",
    "    ('2022-04-01', '2022-06-30'),\n",
    "    ('2022-07-01', '2022-09-30'),\n",
    "    ('2022-10-01', '2022-12-31'),\n",
    "    ('2023-01-01', '2023-03-31'),\n",
    "    ('2023-04-01', '2023-06-30'),\n",
    "    ('2023-07-01', '2023-09-30'),\n",
    "    ('2023-10-01', '2023-12-31'),\n",
    "]\n",
    "\n",
    "# Filter the DataFrame for each period and calculate the mean\n",
    "period_means = [copy[start:end].mean() for start, end in periods]\n",
    "\n",
    "# Create a new DataFrame with the means and period labels\n",
    "resampled_df = pd.DataFrame(period_means, index=pd.to_datetime([end for _, end in periods]))\n",
    "\n",
    "# Set the size of the figure (width, height)\n",
    "fig, ax1 = plt.subplots(figsize=(18, 8))\n",
    "\n",
    "# Set the background color for the entire plot\n",
    "fig.patch.set_facecolor('#2D3250')  # Dark background color\n",
    "ax1.set_facecolor(\"#2D3250\")\n",
    "# Set the borders of the chart to white\n",
    "ax2.spines['bottom'].set_color('white')\n",
    "ax2.spines['top'].set_color('white')\n",
    "ax2.spines['right'].set_color('white')\n",
    "ax2.spines['left'].set_color('white')\n",
    "\n",
    "# Use Seaborn's 'mako' color palette for a dark-to-light transition\n",
    "colors = sns.color_palette(\"crest\", n_colors=len(resampled_df))\n",
    "\n",
    "# Bar chart for General Rating (3 months)\n",
    "bars = ax1.bar(resampled_df.index.astype(str), resampled_df['General Rating'], edgecolor='white', linewidth=0, color=colors, capstyle='round')\n",
    "\n",
    "# Add FancyBboxPatch to each bar for rounded corners with increased roundness\n",
    "for index, (bar, rating) in enumerate(zip(bars, resampled_df['General Rating'])):\n",
    "    bbox = FancyBboxPatch((index - 0.4, 0), 0.8, rating, boxstyle=\"round,pad=0.02, rounding_size=0.1\", linewidth=0, edgecolor='white', facecolor=bar.get_facecolor())\n",
    "    ax1.add_patch(bbox)\n",
    "\n",
    "# Line chart for My Rating (3 months)\n",
    "ax2 = ax1.twinx()  # Create a secondary y-axis\n",
    "line = ax2.plot(resampled_df.index.astype(str), resampled_df['My Rating'], color='white', marker='o', label='My Rating (3 months)', linewidth=2)\n",
    "ax2.set_ylim(0, max(resampled_df['My Rating']) + 1)\n",
    "\n",
    "# Show values above line\n",
    "for index, rating in enumerate(resampled_df['My Rating']):\n",
    "    ax2.text(index, rating + 0.1, f'{rating:.2f}', ha='center', va='bottom', color='white', fontsize=14)  # Set text color to white\n",
    "\n",
    "ax2.spines['bottom'].set_color('white')\n",
    "ax2.spines['top'].set_color('white')\n",
    "ax2.spines['right'].set_color('white')\n",
    "ax2.spines['left'].set_color('white')\n",
    "\n",
    "# Remove the grid\n",
    "ax1.grid(False)\n",
    "ax2.grid(False)\n",
    "\n",
    "# Remove Y labels for the bar chart\n",
    "ax1.set_yticks([])\n",
    "\n",
    "# Rotate x-axis labels vertically\n",
    "ax1.set_xticklabels(resampled_df.index.astype(str), rotation=45, fontsize=14, color='white')\n",
    "\n",
    "# Set y tick labels to white for both axes\n",
    "ax1.tick_params(axis='y', colors='white')\n",
    "ax2.tick_params(axis='y', colors='white')\n",
    "\n",
    "# Add x, y labels, and title\n",
    "ax1.set_xlabel('3-Month Period', fontsize=14, color='white')\n",
    "ax1.set_ylabel('Average General Rating', fontsize=14, color='white')\n",
    "ax2.set_ylabel('My Average Rating', fontsize=14, color='white')\n",
    "plt.title('3-Month Average Ratings of Watched Films', fontsize=16, color='white')\n",
    "\n",
    "plt.tight_layout()  # Adjust layout to prevent clipping of x-axis labels\n",
    "plt.show()\n"
   ]
  },
  {
   "cell_type": "code",
   "execution_count": 12,
   "metadata": {},
   "outputs": [
    {
     "name": "stderr",
     "output_type": "stream",
     "text": [
      "C:\\Users\\ACER\\AppData\\Local\\Temp\\ipykernel_18504\\1123579844.py:25: FutureWarning:\n",
      "\n",
      "Value based partial slicing on non-monotonic DatetimeIndexes with non-existing keys is deprecated and will raise a KeyError in a future Version.\n",
      "\n",
      "C:\\Users\\ACER\\AppData\\Local\\Temp\\ipykernel_18504\\1123579844.py:25: FutureWarning:\n",
      "\n",
      "Dropping of nuisance columns in DataFrame reductions (with 'numeric_only=None') is deprecated; in a future version this will raise TypeError.  Select only valid columns before calling the reduction.\n",
      "\n"
     ]
    },
    {
     "data": {
      "image/png": "[encoded data removed]",
      "text/plain": [
       "<Figure size 1296x576 with 2 Axes>"
      ]
     },
     "metadata": {},
     "output_type": "display_data"
    }
   ],
   "source": [
    "# Convert 'Watched Date' to datetime format\n",
    "df['Watched Date'] = pd.to_datetime(df['Watched Date'])\n",
    "\n",
    "# Create a copy of the DataFrame\n",
    "copy = df.copy()\n",
    "\n",
    "# Convert 'General Rating' to numeric (handle errors by setting them to NaN)\n",
    "copy['General Rating'] = pd.to_numeric(copy['General Rating'], errors='coerce')\n",
    "\n",
    "# Drop rows with NaN values in 'General Rating'\n",
    "copy = copy.dropna(subset=['General Rating'])\n",
    "\n",
    "# Set the 'Watched Date' column as the index\n",
    "copy = copy.set_index('Watched Date')\n",
    "\n",
    "# Define the 3-month periods\n",
    "periods = [\n",
    "    ('2022-01-01', '2022-06-30'),\n",
    "    ('2022-07-01', '2022-12-31'),\n",
    "    ('2023-01-01', '2023-06-30'),\n",
    "    ('2023-07-01', '2023-12-31'),\n",
    "]\n",
    "\n",
    "# Filter the DataFrame for each period and calculate the mean\n",
    "period_means = [copy[start:end].mean() for start, end in periods]\n",
    "\n",
    "# Create a new DataFrame with the means and period labels\n",
    "resampled_df = pd.DataFrame(period_means, index=pd.to_datetime([end for _, end in periods]))\n",
    "\n",
    "# Set the size of the figure (width, height)\n",
    "fig, ax1 = plt.subplots(figsize=(18, 8))\n",
    "\n",
    "# Set the background color for the entire plot\n",
    "fig.patch.set_facecolor('#2D3250')  # Dark background color\n",
    "ax1.set_facecolor(\"#2D3250\")\n",
    "# Set the borders of the chart to white\n",
    "ax2.spines['bottom'].set_color('white')\n",
    "ax2.spines['top'].set_color('white')\n",
    "ax2.spines['right'].set_color('white')\n",
    "ax2.spines['left'].set_color('white')\n",
    "\n",
    "# Use Seaborn's 'mako' color palette for a dark-to-light transition\n",
    "colors = sns.color_palette(\"crest\", n_colors=len(resampled_df))\n",
    "\n",
    "# Bar chart for General Rating (3 months)\n",
    "bars = ax1.bar(resampled_df.index.astype(str), resampled_df['General Rating'], edgecolor='white', linewidth=0, color=colors, capstyle='round')\n",
    "\n",
    "# Add FancyBboxPatch to each bar for rounded corners with increased roundness\n",
    "for index, (bar, rating) in enumerate(zip(bars, resampled_df['General Rating'])):\n",
    "    bbox = FancyBboxPatch((index - 0.4, 0), 0.8, rating, boxstyle=\"round,pad=0.02, rounding_size=0.1\", linewidth=0, edgecolor='white', facecolor=bar.get_facecolor())\n",
    "    ax1.add_patch(bbox)\n",
    "\n",
    "# Line chart for My Rating (3 months)\n",
    "ax2 = ax1.twinx()  # Create a secondary y-axis\n",
    "line = ax2.plot(resampled_df.index.astype(str), resampled_df['My Rating'], color='white', marker='o', label='My Rating (3 months)', linewidth=2)\n",
    "ax2.set_ylim(0, max(resampled_df['My Rating']) + 1)\n",
    "\n",
    "# Show values above line\n",
    "for index, rating in enumerate(resampled_df['My Rating']):\n",
    "    ax2.text(index, rating + 0.1, f'{rating:.2f}', ha='center', va='bottom', color='white', fontsize=14)  # Set text color to white\n",
    "\n",
    "ax2.spines['bottom'].set_color('white')\n",
    "ax2.spines['top'].set_color('white')\n",
    "ax2.spines['right'].set_color('white')\n",
    "ax2.spines['left'].set_color('white')\n",
    "\n",
    "# Remove the grid\n",
    "ax1.grid(False)\n",
    "ax2.grid(False)\n",
    "\n",
    "# Remove Y labels for the bar chart\n",
    "ax1.set_yticks([])\n",
    "\n",
    "# Rotate x-axis labels vertically\n",
    "ax1.set_xticklabels(resampled_df.index.astype(str), rotation=45, fontsize=14, color='white')\n",
    "\n",
    "# Set y tick labels to white for both axes\n",
    "ax1.tick_params(axis='y', colors='white')\n",
    "ax2.tick_params(axis='y', colors='white')\n",
    "\n",
    "# Add x, y labels, and title\n",
    "ax1.set_xlabel('3-Month Period', fontsize=14, color='white')\n",
    "ax1.set_ylabel('Average General Rating', fontsize=14, color='white')\n",
    "ax2.set_ylabel('My Average Rating', fontsize=14, color='white')\n",
    "plt.title('3-Month Average Ratings of Watched Films', fontsize=16, color='white')\n",
    "\n",
    "plt.tight_layout()  # Adjust layout to prevent clipping of x-axis labels\n",
    "plt.show()\n"
   ]
  },
  {
   "cell_type": "code",
   "execution_count": 13,
   "metadata": {},
   "outputs": [
    {
     "name": "stdout",
     "output_type": "stream",
     "text": [
      "Genre\n",
      "'Action'      3.900000\n",
      "'Comedy'      3.861290\n",
      "'Crime'       3.863636\n",
      "'Drama'       3.926471\n",
      "'Fantasy'     3.781818\n",
      "'History'     4.040000\n",
      "'Horror'      3.650000\n",
      "'Mystery'     3.805882\n",
      "'Romance'     3.846154\n",
      "'Thriller'    3.684615\n",
      "Name: General Rating, dtype: float64\n"
     ]
    }
   ],
   "source": [
    "# Convert 'General Rating' column to numeric\n",
    "df['General Rating'] = pd.to_numeric(df['General Rating'], errors='coerce')\n",
    "\n",
    "# 'Genres' column contains lists, convert them to strings\n",
    "df['Genres'] = df['Genres'].apply(lambda x: ', '.join(x) if isinstance(x, list) else x)\n",
    "\n",
    "# Remove square brackets from the 'Genres' column\n",
    "df['Genres'] = df['Genres'].str.strip('[]')\n",
    "\n",
    "# Split the genres into separate rows\n",
    "genre_df = df['Genres'].str.split(', ', expand=True).stack().reset_index(level=1, drop=True).rename('Genre')\n",
    "\n",
    "# Merge the original DataFrame with the genre information\n",
    "merged_df = pd.merge(df, genre_df, left_index=True, right_index=True)\n",
    "\n",
    "# Count the occurrences of each genre\n",
    "genre_counts = merged_df['Genre'].value_counts()\n",
    "\n",
    "# Apply threshold for genres\n",
    "threshold = 10\n",
    "filtered_genres = genre_counts[genre_counts >= threshold].index\n",
    "\n",
    "# Filter the DataFrame for most-watched genres\n",
    "most_watched_df = merged_df[merged_df['Genre'].isin(filtered_genres)]\n",
    "\n",
    "# Calculate the average rating for each most-watched genre\n",
    "genre_avg_ratings = most_watched_df.groupby('Genre')['General Rating'].mean()\n",
    "\n",
    "# Display the result\n",
    "print(genre_avg_ratings)\n",
    "\n"
   ]
  },
  {
   "cell_type": "code",
   "execution_count": 14,
   "metadata": {},
   "outputs": [
    {
     "name": "stderr",
     "output_type": "stream",
     "text": [
      "No handles with labels found to put in legend.\n"
     ]
    },
    {
     "data": {
      "image/png": "[encoded data removed]",
      "text/plain": [
       "<Figure size 720x720 with 1 Axes>"
      ]
     },
     "metadata": {},
     "output_type": "display_data"
    },
    {
     "name": "stdout",
     "output_type": "stream",
     "text": [
      "Genre\n",
      "'Action'      3.900000\n",
      "'Comedy'      3.861290\n",
      "'Crime'       3.863636\n",
      "'Drama'       3.926471\n",
      "'Fantasy'     3.781818\n",
      "'History'     4.040000\n",
      "'Horror'      3.650000\n",
      "'Mystery'     3.805882\n",
      "'Romance'     3.846154\n",
      "'Thriller'    3.684615\n",
      "Name: General Rating, dtype: float64\n"
     ]
    }
   ],
   "source": [
    "# Number of genres\n",
    "num_genres = len(genre_avg_ratings)\n",
    "\n",
    "# Create a list of genre names and their corresponding average ratings\n",
    "genres = genre_avg_ratings.index\n",
    "ratings = genre_avg_ratings.values\n",
    "\n",
    "# Calculate angles for each genre\n",
    "angles = np.linspace(0, 2 * np.pi, num_genres, endpoint=False).tolist()\n",
    "\n",
    "# Make the plot circular\n",
    "ratings = np.concatenate((ratings, [ratings[0]]))\n",
    "angles += angles[:1]\n",
    "\n",
    "# Create a figure and axis with a dark background\n",
    "fig, ax = plt.subplots(figsize=(10, 10), subplot_kw=dict(polar=True))\n",
    "fig.patch.set_facecolor('#092635')  # Dark background color\n",
    "ax.set_facecolor('#2D3250')  # Dark background color\n",
    "\n",
    "# Define color ranges for each layer\n",
    "color_ranges = ['#910A67', '#720455', '#3C0753', '#030637']\n",
    "\n",
    "# Plot the radar chart with a color gradient fill for each layer\n",
    "for i in range(len(color_ranges)):\n",
    "    lower_limit = 3 + i * 0.2\n",
    "    upper_limit = lower_limit + 0.2\n",
    "    ax.fill_between(angles, lower_limit, upper_limit, color=color_ranges[i], alpha=0.8, interpolate=True)\n",
    "\n",
    "# Add circular markers\n",
    "ax.plot(angles, ratings, color='#7ED7C1', linewidth=2, linestyle='solid', marker='o', markersize=8, label='_nolegend_')\n",
    "\n",
    "# Add labels to each point\n",
    "ax.set_thetagrids(np.degrees(angles[:-1]), genres, color='white')\n",
    "\n",
    "# Set the y-axis limits to the interval between 3 and 4\n",
    "ax.set_ylim(3, 4.1)  # Extend the y-axis limit to allow for color gradients beyond the line\n",
    "\n",
    "# Set the title\n",
    "ax.set_title('Radar Chart of Average Ratings for Most Watched Genres', fontsize=18, color='white')\n",
    "\n",
    "# Add a legend with improved placement\n",
    "ax.legend(loc='upper right', bbox_to_anchor=(0.9, 0.9), fontsize=12)\n",
    "\n",
    "# Add radial grid lines\n",
    "ax.grid(color='#2c3e50', linestyle='--', linewidth=0.5)\n",
    "\n",
    "# Adjust layout\n",
    "plt.tight_layout()\n",
    "\n",
    "# Show the plot\n",
    "plt.show()\n",
    "print(genre_avg_ratings)"
   ]
  },
  {
   "cell_type": "code",
   "execution_count": 15,
   "metadata": {},
   "outputs": [
    {
     "name": "stdout",
     "output_type": "stream",
     "text": [
      "Correlation Coefficient: 0.12997306198833244\n"
     ]
    },
    {
     "data": {
      "application/vnd.plotly.v1+json": {
       "config": {
        "plotlyServerURL": "https://plot.ly"
       },
       "data": [
        {
         "hovertemplate": "Average Ratings=%{marker.color}<br>Number of Genres Watched=%{marker.size}<br>index=%{text}<extra></extra>",
         "legendgroup": "",
         "marker": {
          "color": [
           3.9,
           3.861290322580645,
           3.8636363636363638,
           3.926470588235294,
           3.7818181818181817,
           4.04,
           3.65,
           3.8058823529411767,
           3.8461538461538463,
           3.6846153846153844
          ],
          "coloraxis": "coloraxis",
          "opacity": 0.8,
          "size": [
           10,
           32,
           23,
           70,
           11,
           10,
           16,
           17,
           13,
           27
          ],
          "sizemode": "area",
          "sizeref": 0.3111111111111111,
          "symbol": "circle"
         },
         "mode": "markers+text",
         "name": "",
         "orientation": "v",
         "showlegend": false,
         "text": [
          "'Action'",
          "'Comedy'",
          "'Crime'",
          "'Drama'",
          "'Fantasy'",
          "'History'",
          "'Horror'",
          "'Mystery'",
          "'Romance'",
          "'Thriller'"
         ],
         "type": "scatter",
         "x": [
          3.9,
          3.861290322580645,
          3.8636363636363638,
          3.926470588235294,
          3.7818181818181817,
          4.04,
          3.65,
          3.8058823529411767,
          3.8461538461538463,
          3.6846153846153844
         ],
         "xaxis": "x",
         "y": [
          10,
          32,
          23,
          70,
          11,
          10,
          16,
          17,
          13,
          27
         ],
         "yaxis": "y"
        }
       ],
       "layout": {
        "coloraxis": {
         "colorbar": {
          "title": {
           "text": "Average Ratings"
          }
         },
         "colorscale": [
          [
           0,
           "#440154"
          ],
          [
           0.1111111111111111,
           "#482878"
          ],
          [
           0.2222222222222222,
           "#3e4989"
          ],
          [
           0.3333333333333333,
           "#31688e"
          ],
          [
           0.4444444444444444,
           "#26828e"
          ],
          [
           0.5555555555555556,
           "#1f9e89"
          ],
          [
           0.6666666666666666,
           "#35b779"
          ],
          [
           0.7777777777777778,
           "#6ece58"
          ],
          [
           0.8888888888888888,
           "#b5de2b"
          ],
          [
           1,
           "#fde725"
          ]
         ]
        },
        "font": {
         "color": "#495057"
        },
        "height": 600,
        "legend": {
         "itemsizing": "constant",
         "tracegroupgap": 0
        },
        "paper_bgcolor": "#9BB8CD",
        "plot_bgcolor": "#9BB8CD",
        "template": {
         "data": {
          "bar": [
           {
            "error_x": {
             "color": "#2a3f5f"
            },
            "error_y": {
             "color": "#2a3f5f"
            },
            "marker": {
             "line": {
              "color": "#E5ECF6",
              "width": 0.5
             },
             "pattern": {
              "fillmode": "overlay",
              "size": 10,
              "solidity": 0.2
             }
            },
            "type": "bar"
           }
          ],
          "barpolar": [
           {
            "marker": {
             "line": {
              "color": "#E5ECF6",
              "width": 0.5
             },
             "pattern": {
              "fillmode": "overlay",
              "size": 10,
              "solidity": 0.2
             }
            },
            "type": "barpolar"
           }
          ],
          "carpet": [
           {
            "aaxis": {
             "endlinecolor": "#2a3f5f",
             "gridcolor": "white",
             "linecolor": "white",
             "minorgridcolor": "white",
             "startlinecolor": "#2a3f5f"
            },
            "baxis": {
             "endlinecolor": "#2a3f5f",
             "gridcolor": "white",
             "linecolor": "white",
             "minorgridcolor": "white",
             "startlinecolor": "#2a3f5f"
            },
            "type": "carpet"
           }
          ],
          "choropleth": [
           {
            "colorbar": {
             "outlinewidth": 0,
             "ticks": ""
            },
            "type": "choropleth"
           }
          ],
          "contour": [
           {
            "colorbar": {
             "outlinewidth": 0,
             "ticks": ""
            },
            "colorscale": [
             [
              0,
              "#0d0887"
             ],
             [
              0.1111111111111111,
              "#46039f"
             ],
             [
              0.2222222222222222,
              "#7201a8"
             ],
             [
              0.3333333333333333,
              "#9c179e"
             ],
             [
              0.4444444444444444,
              "#bd3786"
             ],
             [
              0.5555555555555556,
              "#d8576b"
             ],
             [
              0.6666666666666666,
              "#ed7953"
             ],
             [
              0.7777777777777778,
              "#fb9f3a"
             ],
             [
              0.8888888888888888,
              "#fdca26"
             ],
             [
              1,
              "#f0f921"
             ]
            ],
            "type": "contour"
           }
          ],
          "contourcarpet": [
           {
            "colorbar": {
             "outlinewidth": 0,
             "ticks": ""
            },
            "type": "contourcarpet"
           }
          ],
          "heatmap": [
           {
            "colorbar": {
             "outlinewidth": 0,
             "ticks": ""
            },
            "colorscale": [
             [
              0,
              "#0d0887"
             ],
             [
              0.1111111111111111,
              "#46039f"
             ],
             [
              0.2222222222222222,
              "#7201a8"
             ],
             [
              0.3333333333333333,
              "#9c179e"
             ],
             [
              0.4444444444444444,
              "#bd3786"
             ],
             [
              0.5555555555555556,
              "#d8576b"
             ],
             [
              0.6666666666666666,
              "#ed7953"
             ],
             [
              0.7777777777777778,
              "#fb9f3a"
             ],
             [
              0.8888888888888888,
              "#fdca26"
             ],
             [
              1,
              "#f0f921"
             ]
            ],
            "type": "heatmap"
           }
          ],
          "heatmapgl": [
           {
            "colorbar": {
             "outlinewidth": 0,
             "ticks": ""
            },
            "colorscale": [
             [
              0,
              "#0d0887"
             ],
             [
              0.1111111111111111,
              "#46039f"
             ],
             [
              0.2222222222222222,
              "#7201a8"
             ],
             [
              0.3333333333333333,
              "#9c179e"
             ],
             [
              0.4444444444444444,
              "#bd3786"
             ],
             [
              0.5555555555555556,
              "#d8576b"
             ],
             [
              0.6666666666666666,
              "#ed7953"
             ],
             [
              0.7777777777777778,
              "#fb9f3a"
             ],
             [
              0.8888888888888888,
              "#fdca26"
             ],
             [
              1,
              "#f0f921"
             ]
            ],
            "type": "heatmapgl"
           }
          ],
          "histogram": [
           {
            "marker": {
             "pattern": {
              "fillmode": "overlay",
              "size": 10,
              "solidity": 0.2
             }
            },
            "type": "histogram"
           }
          ],
          "histogram2d": [
           {
            "colorbar": {
             "outlinewidth": 0,
             "ticks": ""
            },
            "colorscale": [
             [
              0,
              "#0d0887"
             ],
             [
              0.1111111111111111,
              "#46039f"
             ],
             [
              0.2222222222222222,
              "#7201a8"
             ],
             [
              0.3333333333333333,
              "#9c179e"
             ],
             [
              0.4444444444444444,
              "#bd3786"
             ],
             [
              0.5555555555555556,
              "#d8576b"
             ],
             [
              0.6666666666666666,
              "#ed7953"
             ],
             [
              0.7777777777777778,
              "#fb9f3a"
             ],
             [
              0.8888888888888888,
              "#fdca26"
             ],
             [
              1,
              "#f0f921"
             ]
            ],
            "type": "histogram2d"
           }
          ],
          "histogram2dcontour": [
           {
            "colorbar": {
             "outlinewidth": 0,
             "ticks": ""
            },
            "colorscale": [
             [
              0,
              "#0d0887"
             ],
             [
              0.1111111111111111,
              "#46039f"
             ],
             [
              0.2222222222222222,
              "#7201a8"
             ],
             [
              0.3333333333333333,
              "#9c179e"
             ],
             [
              0.4444444444444444,
              "#bd3786"
             ],
             [
              0.5555555555555556,
              "#d8576b"
             ],
             [
              0.6666666666666666,
              "#ed7953"
             ],
             [
              0.7777777777777778,
              "#fb9f3a"
             ],
             [
              0.8888888888888888,
              "#fdca26"
             ],
             [
              1,
              "#f0f921"
             ]
            ],
            "type": "histogram2dcontour"
           }
          ],
          "mesh3d": [
           {
            "colorbar": {
             "outlinewidth": 0,
             "ticks": ""
            },
            "type": "mesh3d"
           }
          ],
          "parcoords": [
           {
            "line": {
             "colorbar": {
              "outlinewidth": 0,
              "ticks": ""
             }
            },
            "type": "parcoords"
           }
          ],
          "pie": [
           {
            "automargin": true,
            "type": "pie"
           }
          ],
          "scatter": [
           {
            "marker": {
             "colorbar": {
              "outlinewidth": 0,
              "ticks": ""
             }
            },
            "type": "scatter"
           }
          ],
          "scatter3d": [
           {
            "line": {
             "colorbar": {
              "outlinewidth": 0,
              "ticks": ""
             }
            },
            "marker": {
             "colorbar": {
              "outlinewidth": 0,
              "ticks": ""
             }
            },
            "type": "scatter3d"
           }
          ],
          "scattercarpet": [
           {
            "marker": {
             "colorbar": {
              "outlinewidth": 0,
              "ticks": ""
             }
            },
            "type": "scattercarpet"
           }
          ],
          "scattergeo": [
           {
            "marker": {
             "colorbar": {
              "outlinewidth": 0,
              "ticks": ""
             }
            },
            "type": "scattergeo"
           }
          ],
          "scattergl": [
           {
            "marker": {
             "colorbar": {
              "outlinewidth": 0,
              "ticks": ""
             }
            },
            "type": "scattergl"
           }
          ],
          "scattermapbox": [
           {
            "marker": {
             "colorbar": {
              "outlinewidth": 0,
              "ticks": ""
             }
            },
            "type": "scattermapbox"
           }
          ],
          "scatterpolar": [
           {
            "marker": {
             "colorbar": {
              "outlinewidth": 0,
              "ticks": ""
             }
            },
            "type": "scatterpolar"
           }
          ],
          "scatterpolargl": [
           {
            "marker": {
             "colorbar": {
              "outlinewidth": 0,
              "ticks": ""
             }
            },
            "type": "scatterpolargl"
           }
          ],
          "scatterternary": [
           {
            "marker": {
             "colorbar": {
              "outlinewidth": 0,
              "ticks": ""
             }
            },
            "type": "scatterternary"
           }
          ],
          "surface": [
           {
            "colorbar": {
             "outlinewidth": 0,
             "ticks": ""
            },
            "colorscale": [
             [
              0,
              "#0d0887"
             ],
             [
              0.1111111111111111,
              "#46039f"
             ],
             [
              0.2222222222222222,
              "#7201a8"
             ],
             [
              0.3333333333333333,
              "#9c179e"
             ],
             [
              0.4444444444444444,
              "#bd3786"
             ],
             [
              0.5555555555555556,
              "#d8576b"
             ],
             [
              0.6666666666666666,
              "#ed7953"
             ],
             [
              0.7777777777777778,
              "#fb9f3a"
             ],
             [
              0.8888888888888888,
              "#fdca26"
             ],
             [
              1,
              "#f0f921"
             ]
            ],
            "type": "surface"
           }
          ],
          "table": [
           {
            "cells": {
             "fill": {
              "color": "#EBF0F8"
             },
             "line": {
              "color": "white"
             }
            },
            "header": {
             "fill": {
              "color": "#C8D4E3"
             },
             "line": {
              "color": "white"
             }
            },
            "type": "table"
           }
          ]
         },
         "layout": {
          "annotationdefaults": {
           "arrowcolor": "#2a3f5f",
           "arrowhead": 0,
           "arrowwidth": 1
          },
          "autotypenumbers": "strict",
          "coloraxis": {
           "colorbar": {
            "outlinewidth": 0,
            "ticks": ""
           }
          },
          "colorscale": {
           "diverging": [
            [
             0,
             "#8e0152"
            ],
            [
             0.1,
             "#c51b7d"
            ],
            [
             0.2,
             "#de77ae"
            ],
            [
             0.3,
             "#f1b6da"
            ],
            [
             0.4,
             "#fde0ef"
            ],
            [
             0.5,
             "#f7f7f7"
            ],
            [
             0.6,
             "#e6f5d0"
            ],
            [
             0.7,
             "#b8e186"
            ],
            [
             0.8,
             "#7fbc41"
            ],
            [
             0.9,
             "#4d9221"
            ],
            [
             1,
             "#276419"
            ]
           ],
           "sequential": [
            [
             0,
             "#0d0887"
            ],
            [
             0.1111111111111111,
             "#46039f"
            ],
            [
             0.2222222222222222,
             "#7201a8"
            ],
            [
             0.3333333333333333,
             "#9c179e"
            ],
            [
             0.4444444444444444,
             "#bd3786"
            ],
            [
             0.5555555555555556,
             "#d8576b"
            ],
            [
             0.6666666666666666,
             "#ed7953"
            ],
            [
             0.7777777777777778,
             "#fb9f3a"
            ],
            [
             0.8888888888888888,
             "#fdca26"
            ],
            [
             1,
             "#f0f921"
            ]
           ],
           "sequentialminus": [
            [
             0,
             "#0d0887"
            ],
            [
             0.1111111111111111,
             "#46039f"
            ],
            [
             0.2222222222222222,
             "#7201a8"
            ],
            [
             0.3333333333333333,
             "#9c179e"
            ],
            [
             0.4444444444444444,
             "#bd3786"
            ],
            [
             0.5555555555555556,
             "#d8576b"
            ],
            [
             0.6666666666666666,
             "#ed7953"
            ],
            [
             0.7777777777777778,
             "#fb9f3a"
            ],
            [
             0.8888888888888888,
             "#fdca26"
            ],
            [
             1,
             "#f0f921"
            ]
           ]
          },
          "colorway": [
           "#636efa",
           "#EF553B",
           "#00cc96",
           "#ab63fa",
           "#FFA15A",
           "#19d3f3",
           "#FF6692",
           "#B6E880",
           "#FF97FF",
           "#FECB52"
          ],
          "font": {
           "color": "#2a3f5f"
          },
          "geo": {
           "bgcolor": "white",
           "lakecolor": "white",
           "landcolor": "#E5ECF6",
           "showlakes": true,
           "showland": true,
           "subunitcolor": "white"
          },
          "hoverlabel": {
           "align": "left"
          },
          "hovermode": "closest",
          "mapbox": {
           "style": "light"
          },
          "paper_bgcolor": "white",
          "plot_bgcolor": "#E5ECF6",
          "polar": {
           "angularaxis": {
            "gridcolor": "white",
            "linecolor": "white",
            "ticks": ""
           },
           "bgcolor": "#E5ECF6",
           "radialaxis": {
            "gridcolor": "white",
            "linecolor": "white",
            "ticks": ""
           }
          },
          "scene": {
           "xaxis": {
            "backgroundcolor": "#E5ECF6",
            "gridcolor": "white",
            "gridwidth": 2,
            "linecolor": "white",
            "showbackground": true,
            "ticks": "",
            "zerolinecolor": "white"
           },
           "yaxis": {
            "backgroundcolor": "#E5ECF6",
            "gridcolor": "white",
            "gridwidth": 2,
            "linecolor": "white",
            "showbackground": true,
            "ticks": "",
            "zerolinecolor": "white"
           },
           "zaxis": {
            "backgroundcolor": "#E5ECF6",
            "gridcolor": "white",
            "gridwidth": 2,
            "linecolor": "white",
            "showbackground": true,
            "ticks": "",
            "zerolinecolor": "white"
           }
          },
          "shapedefaults": {
           "line": {
            "color": "#2a3f5f"
           }
          },
          "ternary": {
           "aaxis": {
            "gridcolor": "white",
            "linecolor": "white",
            "ticks": ""
           },
           "baxis": {
            "gridcolor": "white",
            "linecolor": "white",
            "ticks": ""
           },
           "bgcolor": "#E5ECF6",
           "caxis": {
            "gridcolor": "white",
            "linecolor": "white",
            "ticks": ""
           }
          },
          "title": {
           "x": 0.05
          },
          "xaxis": {
           "automargin": true,
           "gridcolor": "white",
           "linecolor": "white",
           "ticks": "",
           "title": {
            "standoff": 15
           },
           "zerolinecolor": "white",
           "zerolinewidth": 2
          },
          "yaxis": {
           "automargin": true,
           "gridcolor": "white",
           "linecolor": "white",
           "ticks": "",
           "title": {
            "standoff": 15
           },
           "zerolinecolor": "white",
           "zerolinewidth": 2
          }
         }
        },
        "title": {
         "font": {
          "color": "#343A40"
         },
         "text": "Scatter Chart: Average Ratings vs. Number of Genres Watched"
        },
        "width": 900,
        "xaxis": {
         "anchor": "y",
         "domain": [
          0,
          1
         ],
         "gridcolor": "#CED4DA",
         "showgrid": false,
         "title": {
          "text": "Average Ratings"
         }
        },
        "yaxis": {
         "anchor": "x",
         "domain": [
          0,
          1
         ],
         "gridcolor": "#CED4DA",
         "range": [
          0,
          80
         ],
         "title": {
          "text": "Number of Genres Watched"
         }
        }
       }
      }
     },
     "metadata": {},
     "output_type": "display_data"
    }
   ],
   "source": [
    "# Create a DataFrame\n",
    "df_correlation = pd.DataFrame({'filtered_genre_counts': filtered_genre_counts, 'genre_avg_ratings': genre_avg_ratings})\n",
    "\n",
    "# Calculate the correlation coefficient\n",
    "correlation_coefficient = df_correlation['filtered_genre_counts'].corr(df_correlation['genre_avg_ratings'])\n",
    "\n",
    "print(f\"Correlation Coefficient: {correlation_coefficient}\")\n",
    "\n",
    "# Create a scatter chart with Plotly\n",
    "fig = px.scatter(df_correlation, x='genre_avg_ratings', y='filtered_genre_counts', color='genre_avg_ratings', \n",
    "                 size='filtered_genre_counts', opacity=0.8, text=df_correlation.index,\n",
    "                 labels={'genre_avg_ratings': 'Average Ratings', 'filtered_genre_counts': 'Number of Genres Watched'},\n",
    "                 title='Scatter Chart: Average Ratings vs. Number of Genres Watched',\n",
    "                 color_continuous_scale='Viridis', size_max=15, range_y = [0,80])\n",
    "\n",
    "# Customize layout\n",
    "fig.update_layout(\n",
    "    paper_bgcolor='#9BB8CD', \n",
    "    plot_bgcolor='#9BB8CD',  \n",
    "    font=dict(color='#495057'),  # Dark text color\n",
    "    title=dict(font=dict(color='#343A40')),  # Dark title color\n",
    "    xaxis=dict(gridcolor='#CED4DA', showgrid=False),  # Light grid color\n",
    "    yaxis=dict(gridcolor='#CED4DA'),  # Light grid color\n",
    "    width=900,  # Set the width of the figure\n",
    "    height=600  # Set the height of the figure\n",
    ")\n",
    "\n",
    "# Show the plot\n",
    "fig.show()\n"
   ]
  },
  {
   "cell_type": "code",
   "execution_count": 16,
   "metadata": {},
   "outputs": [
    {
     "name": "stdout",
     "output_type": "stream",
     "text": [
      "My Rating\n",
      "2.5    3.680000\n",
      "3.0    3.635294\n",
      "3.5    3.836842\n",
      "4.0    4.006667\n",
      "4.5    4.314286\n",
      "5.0    4.200000\n",
      "Name: General Rating, dtype: float64\n"
     ]
    }
   ],
   "source": [
    "copy = df.copy()\n",
    "\n",
    "# Convert 'My Rating' and 'General Rating' to numeric\n",
    "copy['My Rating'] = pd.to_numeric(copy['My Rating'], errors='coerce')\n",
    "copy['General Rating'] = pd.to_numeric(copy['General Rating'], errors='coerce')\n",
    "\n",
    "# Group by 'My Rating' and calculate the mean of 'General Rating'\n",
    "mean_general_ratings = df.groupby('My Rating')['General Rating'].mean()\n",
    "\n",
    "# Print the result\n",
    "print(mean_general_ratings)\n"
   ]
  },
  {
   "cell_type": "code",
   "execution_count": 17,
   "metadata": {},
   "outputs": [
    {
     "name": "stdout",
     "output_type": "stream",
     "text": [
      "Correlation Coefficient: 0.928293868453409\n",
      "Slope of the trendline: 0.2746742486468271\n"
     ]
    },
    {
     "data": {
      "application/vnd.plotly.v1+json": {
       "config": {
        "plotlyServerURL": "https://plot.ly"
       },
       "data": [
        {
         "hovertemplate": "My Rating=%{text}<br>Mean General Rating=%{marker.color}<extra></extra>",
         "legendgroup": "",
         "marker": {
          "color": [
           3.6799999999999997,
           3.635294117647059,
           3.836842105263158,
           4.006666666666667,
           4.314285714285714,
           4.2
          ],
          "coloraxis": "coloraxis",
          "opacity": 0.8,
          "size": [
           3.6799999999999997,
           3.635294117647059,
           3.836842105263158,
           4.006666666666667,
           4.314285714285714,
           4.2
          ],
          "sizemode": "area",
          "sizeref": 0.019174603174603174,
          "symbol": "circle"
         },
         "mode": "markers+text",
         "name": "",
         "orientation": "v",
         "showlegend": false,
         "text": [
          2.5,
          3,
          3.5,
          4,
          4.5,
          5
         ],
         "type": "scatter",
         "x": [
          2.5,
          3,
          3.5,
          4,
          4.5,
          5
         ],
         "xaxis": "x",
         "y": [
          3.6799999999999997,
          3.635294117647059,
          3.836842105263158,
          4.006666666666667,
          4.314285714285714,
          4.2
         ],
         "yaxis": "y"
        },
        {
         "line": {
          "color": "#B06161",
          "dash": "dash"
         },
         "mode": "lines",
         "type": "scatter",
         "x": [
          2.5,
          3,
          3.5,
          4,
          4.5,
          5
         ],
         "y": [
          3.6021719565018993,
          3.7395090808253126,
          3.876846205148726,
          4.014183329472139,
          4.151520453795554,
          4.288857578118967
         ]
        }
       ],
       "layout": {
        "coloraxis": {
         "colorbar": {
          "title": {
           "text": "Mean General Rating"
          }
         },
         "colorscale": [
          [
           0,
           "#440154"
          ],
          [
           0.1111111111111111,
           "#482878"
          ],
          [
           0.2222222222222222,
           "#3e4989"
          ],
          [
           0.3333333333333333,
           "#31688e"
          ],
          [
           0.4444444444444444,
           "#26828e"
          ],
          [
           0.5555555555555556,
           "#1f9e89"
          ],
          [
           0.6666666666666666,
           "#35b779"
          ],
          [
           0.7777777777777778,
           "#6ece58"
          ],
          [
           0.8888888888888888,
           "#b5de2b"
          ],
          [
           1,
           "#fde725"
          ]
         ]
        },
        "font": {
         "color": "#495057"
        },
        "height": 600,
        "legend": {
         "itemsizing": "constant",
         "tracegroupgap": 0
        },
        "paper_bgcolor": "#9BB8CD",
        "plot_bgcolor": "#9BB8CD",
        "template": {
         "data": {
          "bar": [
           {
            "error_x": {
             "color": "#2a3f5f"
            },
            "error_y": {
             "color": "#2a3f5f"
            },
            "marker": {
             "line": {
              "color": "#E5ECF6",
              "width": 0.5
             },
             "pattern": {
              "fillmode": "overlay",
              "size": 10,
              "solidity": 0.2
             }
            },
            "type": "bar"
           }
          ],
          "barpolar": [
           {
            "marker": {
             "line": {
              "color": "#E5ECF6",
              "width": 0.5
             },
             "pattern": {
              "fillmode": "overlay",
              "size": 10,
              "solidity": 0.2
             }
            },
            "type": "barpolar"
           }
          ],
          "carpet": [
           {
            "aaxis": {
             "endlinecolor": "#2a3f5f",
             "gridcolor": "white",
             "linecolor": "white",
             "minorgridcolor": "white",
             "startlinecolor": "#2a3f5f"
            },
            "baxis": {
             "endlinecolor": "#2a3f5f",
             "gridcolor": "white",
             "linecolor": "white",
             "minorgridcolor": "white",
             "startlinecolor": "#2a3f5f"
            },
            "type": "carpet"
           }
          ],
          "choropleth": [
           {
            "colorbar": {
             "outlinewidth": 0,
             "ticks": ""
            },
            "type": "choropleth"
           }
          ],
          "contour": [
           {
            "colorbar": {
             "outlinewidth": 0,
             "ticks": ""
            },
            "colorscale": [
             [
              0,
              "#0d0887"
             ],
             [
              0.1111111111111111,
              "#46039f"
             ],
             [
              0.2222222222222222,
              "#7201a8"
             ],
             [
              0.3333333333333333,
              "#9c179e"
             ],
             [
              0.4444444444444444,
              "#bd3786"
             ],
             [
              0.5555555555555556,
              "#d8576b"
             ],
             [
              0.6666666666666666,
              "#ed7953"
             ],
             [
              0.7777777777777778,
              "#fb9f3a"
             ],
             [
              0.8888888888888888,
              "#fdca26"
             ],
             [
              1,
              "#f0f921"
             ]
            ],
            "type": "contour"
           }
          ],
          "contourcarpet": [
           {
            "colorbar": {
             "outlinewidth": 0,
             "ticks": ""
            },
            "type": "contourcarpet"
           }
          ],
          "heatmap": [
           {
            "colorbar": {
             "outlinewidth": 0,
             "ticks": ""
            },
            "colorscale": [
             [
              0,
              "#0d0887"
             ],
             [
              0.1111111111111111,
              "#46039f"
             ],
             [
              0.2222222222222222,
              "#7201a8"
             ],
             [
              0.3333333333333333,
              "#9c179e"
             ],
             [
              0.4444444444444444,
              "#bd3786"
             ],
             [
              0.5555555555555556,
              "#d8576b"
             ],
             [
              0.6666666666666666,
              "#ed7953"
             ],
             [
              0.7777777777777778,
              "#fb9f3a"
             ],
             [
              0.8888888888888888,
              "#fdca26"
             ],
             [
              1,
              "#f0f921"
             ]
            ],
            "type": "heatmap"
           }
          ],
          "heatmapgl": [
           {
            "colorbar": {
             "outlinewidth": 0,
             "ticks": ""
            },
            "colorscale": [
             [
              0,
              "#0d0887"
             ],
             [
              0.1111111111111111,
              "#46039f"
             ],
             [
              0.2222222222222222,
              "#7201a8"
             ],
             [
              0.3333333333333333,
              "#9c179e"
             ],
             [
              0.4444444444444444,
              "#bd3786"
             ],
             [
              0.5555555555555556,
              "#d8576b"
             ],
             [
              0.6666666666666666,
              "#ed7953"
             ],
             [
              0.7777777777777778,
              "#fb9f3a"
             ],
             [
              0.8888888888888888,
              "#fdca26"
             ],
             [
              1,
              "#f0f921"
             ]
            ],
            "type": "heatmapgl"
           }
          ],
          "histogram": [
           {
            "marker": {
             "pattern": {
              "fillmode": "overlay",
              "size": 10,
              "solidity": 0.2
             }
            },
            "type": "histogram"
           }
          ],
          "histogram2d": [
           {
            "colorbar": {
             "outlinewidth": 0,
             "ticks": ""
            },
            "colorscale": [
             [
              0,
              "#0d0887"
             ],
             [
              0.1111111111111111,
              "#46039f"
             ],
             [
              0.2222222222222222,
              "#7201a8"
             ],
             [
              0.3333333333333333,
              "#9c179e"
             ],
             [
              0.4444444444444444,
              "#bd3786"
             ],
             [
              0.5555555555555556,
              "#d8576b"
             ],
             [
              0.6666666666666666,
              "#ed7953"
             ],
             [
              0.7777777777777778,
              "#fb9f3a"
             ],
             [
              0.8888888888888888,
              "#fdca26"
             ],
             [
              1,
              "#f0f921"
             ]
            ],
            "type": "histogram2d"
           }
          ],
          "histogram2dcontour": [
           {
            "colorbar": {
             "outlinewidth": 0,
             "ticks": ""
            },
            "colorscale": [
             [
              0,
              "#0d0887"
             ],
             [
              0.1111111111111111,
              "#46039f"
             ],
             [
              0.2222222222222222,
              "#7201a8"
             ],
             [
              0.3333333333333333,
              "#9c179e"
             ],
             [
              0.4444444444444444,
              "#bd3786"
             ],
             [
              0.5555555555555556,
              "#d8576b"
             ],
             [
              0.6666666666666666,
              "#ed7953"
             ],
             [
              0.7777777777777778,
              "#fb9f3a"
             ],
             [
              0.8888888888888888,
              "#fdca26"
             ],
             [
              1,
              "#f0f921"
             ]
            ],
            "type": "histogram2dcontour"
           }
          ],
          "mesh3d": [
           {
            "colorbar": {
             "outlinewidth": 0,
             "ticks": ""
            },
            "type": "mesh3d"
           }
          ],
          "parcoords": [
           {
            "line": {
             "colorbar": {
              "outlinewidth": 0,
              "ticks": ""
             }
            },
            "type": "parcoords"
           }
          ],
          "pie": [
           {
            "automargin": true,
            "type": "pie"
           }
          ],
          "scatter": [
           {
            "marker": {
             "colorbar": {
              "outlinewidth": 0,
              "ticks": ""
             }
            },
            "type": "scatter"
           }
          ],
          "scatter3d": [
           {
            "line": {
             "colorbar": {
              "outlinewidth": 0,
              "ticks": ""
             }
            },
            "marker": {
             "colorbar": {
              "outlinewidth": 0,
              "ticks": ""
             }
            },
            "type": "scatter3d"
           }
          ],
          "scattercarpet": [
           {
            "marker": {
             "colorbar": {
              "outlinewidth": 0,
              "ticks": ""
             }
            },
            "type": "scattercarpet"
           }
          ],
          "scattergeo": [
           {
            "marker": {
             "colorbar": {
              "outlinewidth": 0,
              "ticks": ""
             }
            },
            "type": "scattergeo"
           }
          ],
          "scattergl": [
           {
            "marker": {
             "colorbar": {
              "outlinewidth": 0,
              "ticks": ""
             }
            },
            "type": "scattergl"
           }
          ],
          "scattermapbox": [
           {
            "marker": {
             "colorbar": {
              "outlinewidth": 0,
              "ticks": ""
             }
            },
            "type": "scattermapbox"
           }
          ],
          "scatterpolar": [
           {
            "marker": {
             "colorbar": {
              "outlinewidth": 0,
              "ticks": ""
             }
            },
            "type": "scatterpolar"
           }
          ],
          "scatterpolargl": [
           {
            "marker": {
             "colorbar": {
              "outlinewidth": 0,
              "ticks": ""
             }
            },
            "type": "scatterpolargl"
           }
          ],
          "scatterternary": [
           {
            "marker": {
             "colorbar": {
              "outlinewidth": 0,
              "ticks": ""
             }
            },
            "type": "scatterternary"
           }
          ],
          "surface": [
           {
            "colorbar": {
             "outlinewidth": 0,
             "ticks": ""
            },
            "colorscale": [
             [
              0,
              "#0d0887"
             ],
             [
              0.1111111111111111,
              "#46039f"
             ],
             [
              0.2222222222222222,
              "#7201a8"
             ],
             [
              0.3333333333333333,
              "#9c179e"
             ],
             [
              0.4444444444444444,
              "#bd3786"
             ],
             [
              0.5555555555555556,
              "#d8576b"
             ],
             [
              0.6666666666666666,
              "#ed7953"
             ],
             [
              0.7777777777777778,
              "#fb9f3a"
             ],
             [
              0.8888888888888888,
              "#fdca26"
             ],
             [
              1,
              "#f0f921"
             ]
            ],
            "type": "surface"
           }
          ],
          "table": [
           {
            "cells": {
             "fill": {
              "color": "#EBF0F8"
             },
             "line": {
              "color": "white"
             }
            },
            "header": {
             "fill": {
              "color": "#C8D4E3"
             },
             "line": {
              "color": "white"
             }
            },
            "type": "table"
           }
          ]
         },
         "layout": {
          "annotationdefaults": {
           "arrowcolor": "#2a3f5f",
           "arrowhead": 0,
           "arrowwidth": 1
          },
          "autotypenumbers": "strict",
          "coloraxis": {
           "colorbar": {
            "outlinewidth": 0,
            "ticks": ""
           }
          },
          "colorscale": {
           "diverging": [
            [
             0,
             "#8e0152"
            ],
            [
             0.1,
             "#c51b7d"
            ],
            [
             0.2,
             "#de77ae"
            ],
            [
             0.3,
             "#f1b6da"
            ],
            [
             0.4,
             "#fde0ef"
            ],
            [
             0.5,
             "#f7f7f7"
            ],
            [
             0.6,
             "#e6f5d0"
            ],
            [
             0.7,
             "#b8e186"
            ],
            [
             0.8,
             "#7fbc41"
            ],
            [
             0.9,
             "#4d9221"
            ],
            [
             1,
             "#276419"
            ]
           ],
           "sequential": [
            [
             0,
             "#0d0887"
            ],
            [
             0.1111111111111111,
             "#46039f"
            ],
            [
             0.2222222222222222,
             "#7201a8"
            ],
            [
             0.3333333333333333,
             "#9c179e"
            ],
            [
             0.4444444444444444,
             "#bd3786"
            ],
            [
             0.5555555555555556,
             "#d8576b"
            ],
            [
             0.6666666666666666,
             "#ed7953"
            ],
            [
             0.7777777777777778,
             "#fb9f3a"
            ],
            [
             0.8888888888888888,
             "#fdca26"
            ],
            [
             1,
             "#f0f921"
            ]
           ],
           "sequentialminus": [
            [
             0,
             "#0d0887"
            ],
            [
             0.1111111111111111,
             "#46039f"
            ],
            [
             0.2222222222222222,
             "#7201a8"
            ],
            [
             0.3333333333333333,
             "#9c179e"
            ],
            [
             0.4444444444444444,
             "#bd3786"
            ],
            [
             0.5555555555555556,
             "#d8576b"
            ],
            [
             0.6666666666666666,
             "#ed7953"
            ],
            [
             0.7777777777777778,
             "#fb9f3a"
            ],
            [
             0.8888888888888888,
             "#fdca26"
            ],
            [
             1,
             "#f0f921"
            ]
           ]
          },
          "colorway": [
           "#636efa",
           "#EF553B",
           "#00cc96",
           "#ab63fa",
           "#FFA15A",
           "#19d3f3",
           "#FF6692",
           "#B6E880",
           "#FF97FF",
           "#FECB52"
          ],
          "font": {
           "color": "#2a3f5f"
          },
          "geo": {
           "bgcolor": "white",
           "lakecolor": "white",
           "landcolor": "#E5ECF6",
           "showlakes": true,
           "showland": true,
           "subunitcolor": "white"
          },
          "hoverlabel": {
           "align": "left"
          },
          "hovermode": "closest",
          "mapbox": {
           "style": "light"
          },
          "paper_bgcolor": "white",
          "plot_bgcolor": "#E5ECF6",
          "polar": {
           "angularaxis": {
            "gridcolor": "white",
            "linecolor": "white",
            "ticks": ""
           },
           "bgcolor": "#E5ECF6",
           "radialaxis": {
            "gridcolor": "white",
            "linecolor": "white",
            "ticks": ""
           }
          },
          "scene": {
           "xaxis": {
            "backgroundcolor": "#E5ECF6",
            "gridcolor": "white",
            "gridwidth": 2,
            "linecolor": "white",
            "showbackground": true,
            "ticks": "",
            "zerolinecolor": "white"
           },
           "yaxis": {
            "backgroundcolor": "#E5ECF6",
            "gridcolor": "white",
            "gridwidth": 2,
            "linecolor": "white",
            "showbackground": true,
            "ticks": "",
            "zerolinecolor": "white"
           },
           "zaxis": {
            "backgroundcolor": "#E5ECF6",
            "gridcolor": "white",
            "gridwidth": 2,
            "linecolor": "white",
            "showbackground": true,
            "ticks": "",
            "zerolinecolor": "white"
           }
          },
          "shapedefaults": {
           "line": {
            "color": "#2a3f5f"
           }
          },
          "ternary": {
           "aaxis": {
            "gridcolor": "white",
            "linecolor": "white",
            "ticks": ""
           },
           "baxis": {
            "gridcolor": "white",
            "linecolor": "white",
            "ticks": ""
           },
           "bgcolor": "#E5ECF6",
           "caxis": {
            "gridcolor": "white",
            "linecolor": "white",
            "ticks": ""
           }
          },
          "title": {
           "x": 0.05
          },
          "xaxis": {
           "automargin": true,
           "gridcolor": "white",
           "linecolor": "white",
           "ticks": "",
           "title": {
            "standoff": 15
           },
           "zerolinecolor": "white",
           "zerolinewidth": 2
          },
          "yaxis": {
           "automargin": true,
           "gridcolor": "white",
           "linecolor": "white",
           "ticks": "",
           "title": {
            "standoff": 15
           },
           "zerolinecolor": "white",
           "zerolinewidth": 2
          }
         }
        },
        "title": {
         "font": {
          "color": "#343A40"
         },
         "text": "Scatter Plot: My Rating vs. Mean of General Ratings   -> Correlation Coefficient: 0.928"
        },
        "width": 900,
        "xaxis": {
         "anchor": "y",
         "domain": [
          0,
          1
         ],
         "gridcolor": "#CED4DA",
         "range": [
          2.4,
          5.1
         ],
         "showgrid": true,
         "title": {
          "text": "My Rating"
         },
         "zeroline": false
        },
        "yaxis": {
         "anchor": "x",
         "domain": [
          0,
          1
         ],
         "gridcolor": "#CED4DA",
         "range": [
          3.4,
          4.5
         ],
         "showgrid": true,
         "title": {
          "text": "Mean General Rating"
         },
         "zeroline": false
        }
       }
      }
     },
     "metadata": {},
     "output_type": "display_data"
    }
   ],
   "source": [
    "# Create a scatter chart with Plotly\n",
    "fig = px.scatter(mean_general_ratings.reset_index(), x='My Rating', y='General Rating', \n",
    "                 color='General Rating', size='General Rating', opacity=0.8, text='My Rating',\n",
    "                 labels={'General Rating': 'Mean General Rating', 'My Rating': 'My Rating'},\n",
    "                 title='Scatter Plot: My Rating vs. Mean of General Ratings   -> Correlation Coefficient: 0.928',\n",
    "                 color_continuous_scale='Viridis', size_max=15, range_x=[2.4, 5.1], range_y=[3.4, 4.5])\n",
    "\n",
    "\n",
    "# Add trendline\n",
    "z = np.polyfit(mean_general_ratings.index, mean_general_ratings, 1)\n",
    "p = np.poly1d(z)\n",
    "\n",
    "trendline_trace = go.Scatter(\n",
    "    x=mean_general_ratings.index,\n",
    "    y=p(mean_general_ratings.index),\n",
    "    mode='lines',\n",
    "    line=dict(dash='dash', color='#B06161')\n",
    "\n",
    ")\n",
    "\n",
    "fig.add_trace(trendline_trace)\n",
    "\n",
    "# Calculate correlation coefficient\n",
    "correlation_coefficient = np.corrcoef(mean_general_ratings.index, mean_general_ratings)[0, 1]\n",
    "print(\"Correlation Coefficient:\", correlation_coefficient)\n",
    "\n",
    "# Extract the slope from the polynomial fit coefficients\n",
    "slope = z[0]\n",
    "# Print the slope\n",
    "print(\"Slope of the trendline:\", slope)\n",
    "\n",
    "# Customize layout\n",
    "fig.update_layout(\n",
    "    paper_bgcolor='#9BB8CD', \n",
    "    plot_bgcolor='#9BB8CD',  \n",
    "    font=dict(color='#495057'),  # Dark text color\n",
    "    title=dict(font=dict(color='#343A40')),  # Dark title color\n",
    "    xaxis=dict(gridcolor='#CED4DA', showgrid=True, zeroline=False),  # Light grid color\n",
    "    yaxis=dict(gridcolor='#CED4DA', showgrid=True, zeroline=False),  # Light grid color\n",
    "    width=900,  # Set the width of the figure\n",
    "    height=600  # Set the height of the figure\n",
    ")\n",
    "\n",
    "# Show the plot\n",
    "fig.show()\n"
   ]
  },
  {
   "cell_type": "code",
   "execution_count": 18,
   "metadata": {},
   "outputs": [
    {
     "name": "stderr",
     "output_type": "stream",
     "text": [
      "C:\\Users\\ACER\\AppData\\Local\\Temp\\ipykernel_18504\\234997711.py:23: SettingWithCopyWarning:\n",
      "\n",
      "\n",
      "A value is trying to be set on a copy of a slice from a DataFrame.\n",
      "Try using .loc[row_indexer,col_indexer] = value instead\n",
      "\n",
      "See the caveats in the documentation: https://pandas.pydata.org/pandas-docs/stable/user_guide/indexing.html#returning-a-view-versus-a-copy\n",
      "\n",
      "C:\\Users\\ACER\\AppData\\Local\\Temp\\ipykernel_18504\\234997711.py:24: SettingWithCopyWarning:\n",
      "\n",
      "\n",
      "A value is trying to be set on a copy of a slice from a DataFrame.\n",
      "Try using .loc[row_indexer,col_indexer] = value instead\n",
      "\n",
      "See the caveats in the documentation: https://pandas.pydata.org/pandas-docs/stable/user_guide/indexing.html#returning-a-view-versus-a-copy\n",
      "\n",
      "C:\\Users\\ACER\\AppData\\Local\\Temp\\ipykernel_18504\\234997711.py:23: SettingWithCopyWarning:\n",
      "\n",
      "\n",
      "A value is trying to be set on a copy of a slice from a DataFrame.\n",
      "Try using .loc[row_indexer,col_indexer] = value instead\n",
      "\n",
      "See the caveats in the documentation: https://pandas.pydata.org/pandas-docs/stable/user_guide/indexing.html#returning-a-view-versus-a-copy\n",
      "\n",
      "C:\\Users\\ACER\\AppData\\Local\\Temp\\ipykernel_18504\\234997711.py:24: SettingWithCopyWarning:\n",
      "\n",
      "\n",
      "A value is trying to be set on a copy of a slice from a DataFrame.\n",
      "Try using .loc[row_indexer,col_indexer] = value instead\n",
      "\n",
      "See the caveats in the documentation: https://pandas.pydata.org/pandas-docs/stable/user_guide/indexing.html#returning-a-view-versus-a-copy\n",
      "\n",
      "C:\\Users\\ACER\\AppData\\Local\\Temp\\ipykernel_18504\\234997711.py:23: SettingWithCopyWarning:\n",
      "\n",
      "\n",
      "A value is trying to be set on a copy of a slice from a DataFrame.\n",
      "Try using .loc[row_indexer,col_indexer] = value instead\n",
      "\n",
      "See the caveats in the documentation: https://pandas.pydata.org/pandas-docs/stable/user_guide/indexing.html#returning-a-view-versus-a-copy\n",
      "\n",
      "C:\\Users\\ACER\\AppData\\Local\\Temp\\ipykernel_18504\\234997711.py:24: SettingWithCopyWarning:\n",
      "\n",
      "\n",
      "A value is trying to be set on a copy of a slice from a DataFrame.\n",
      "Try using .loc[row_indexer,col_indexer] = value instead\n",
      "\n",
      "See the caveats in the documentation: https://pandas.pydata.org/pandas-docs/stable/user_guide/indexing.html#returning-a-view-versus-a-copy\n",
      "\n",
      "C:\\Users\\ACER\\AppData\\Local\\Temp\\ipykernel_18504\\234997711.py:23: SettingWithCopyWarning:\n",
      "\n",
      "\n",
      "A value is trying to be set on a copy of a slice from a DataFrame.\n",
      "Try using .loc[row_indexer,col_indexer] = value instead\n",
      "\n",
      "See the caveats in the documentation: https://pandas.pydata.org/pandas-docs/stable/user_guide/indexing.html#returning-a-view-versus-a-copy\n",
      "\n",
      "C:\\Users\\ACER\\AppData\\Local\\Temp\\ipykernel_18504\\234997711.py:24: SettingWithCopyWarning:\n",
      "\n",
      "\n",
      "A value is trying to be set on a copy of a slice from a DataFrame.\n",
      "Try using .loc[row_indexer,col_indexer] = value instead\n",
      "\n",
      "See the caveats in the documentation: https://pandas.pydata.org/pandas-docs/stable/user_guide/indexing.html#returning-a-view-versus-a-copy\n",
      "\n",
      "C:\\Users\\ACER\\AppData\\Local\\Temp\\ipykernel_18504\\234997711.py:23: SettingWithCopyWarning:\n",
      "\n",
      "\n",
      "A value is trying to be set on a copy of a slice from a DataFrame.\n",
      "Try using .loc[row_indexer,col_indexer] = value instead\n",
      "\n",
      "See the caveats in the documentation: https://pandas.pydata.org/pandas-docs/stable/user_guide/indexing.html#returning-a-view-versus-a-copy\n",
      "\n",
      "C:\\Users\\ACER\\AppData\\Local\\Temp\\ipykernel_18504\\234997711.py:24: SettingWithCopyWarning:\n",
      "\n",
      "\n",
      "A value is trying to be set on a copy of a slice from a DataFrame.\n",
      "Try using .loc[row_indexer,col_indexer] = value instead\n",
      "\n",
      "See the caveats in the documentation: https://pandas.pydata.org/pandas-docs/stable/user_guide/indexing.html#returning-a-view-versus-a-copy\n",
      "\n",
      "C:\\Users\\ACER\\AppData\\Local\\Temp\\ipykernel_18504\\234997711.py:23: SettingWithCopyWarning:\n",
      "\n",
      "\n",
      "A value is trying to be set on a copy of a slice from a DataFrame.\n",
      "Try using .loc[row_indexer,col_indexer] = value instead\n",
      "\n",
      "See the caveats in the documentation: https://pandas.pydata.org/pandas-docs/stable/user_guide/indexing.html#returning-a-view-versus-a-copy\n",
      "\n",
      "C:\\Users\\ACER\\AppData\\Local\\Temp\\ipykernel_18504\\234997711.py:24: SettingWithCopyWarning:\n",
      "\n",
      "\n",
      "A value is trying to be set on a copy of a slice from a DataFrame.\n",
      "Try using .loc[row_indexer,col_indexer] = value instead\n",
      "\n",
      "See the caveats in the documentation: https://pandas.pydata.org/pandas-docs/stable/user_guide/indexing.html#returning-a-view-versus-a-copy\n",
      "\n"
     ]
    },
    {
     "name": "stdout",
     "output_type": "stream",
     "text": [
      "Slope for period ('2022-01-01', '2022-03-31'): 0.266666666666667\n",
      "Slope for period ('2022-04-01', '2022-06-30'): 0.44\n",
      "Slope for period ('2022-07-01', '2022-09-30'): 0.5149999999999992\n",
      "Slope for period ('2022-10-01', '2022-12-31'): 0.35277777777777725\n",
      "Slope for period ('2023-01-01', '2023-03-31'): 0.330833333333333\n",
      "Slope for period ('2023-04-01', '2023-06-30'): -0.07000000000000065\n",
      "Slope for period ('2023-07-01', '2023-09-30'): 0.27499999999999936\n",
      "Slope for period ('2023-10-01', '2023-12-31'): 0.3180952380952383\n"
     ]
    },
    {
     "name": "stderr",
     "output_type": "stream",
     "text": [
      "C:\\Users\\ACER\\AppData\\Local\\Temp\\ipykernel_18504\\234997711.py:23: SettingWithCopyWarning:\n",
      "\n",
      "\n",
      "A value is trying to be set on a copy of a slice from a DataFrame.\n",
      "Try using .loc[row_indexer,col_indexer] = value instead\n",
      "\n",
      "See the caveats in the documentation: https://pandas.pydata.org/pandas-docs/stable/user_guide/indexing.html#returning-a-view-versus-a-copy\n",
      "\n",
      "C:\\Users\\ACER\\AppData\\Local\\Temp\\ipykernel_18504\\234997711.py:24: SettingWithCopyWarning:\n",
      "\n",
      "\n",
      "A value is trying to be set on a copy of a slice from a DataFrame.\n",
      "Try using .loc[row_indexer,col_indexer] = value instead\n",
      "\n",
      "See the caveats in the documentation: https://pandas.pydata.org/pandas-docs/stable/user_guide/indexing.html#returning-a-view-versus-a-copy\n",
      "\n",
      "C:\\Users\\ACER\\AppData\\Local\\Temp\\ipykernel_18504\\234997711.py:23: SettingWithCopyWarning:\n",
      "\n",
      "\n",
      "A value is trying to be set on a copy of a slice from a DataFrame.\n",
      "Try using .loc[row_indexer,col_indexer] = value instead\n",
      "\n",
      "See the caveats in the documentation: https://pandas.pydata.org/pandas-docs/stable/user_guide/indexing.html#returning-a-view-versus-a-copy\n",
      "\n",
      "C:\\Users\\ACER\\AppData\\Local\\Temp\\ipykernel_18504\\234997711.py:24: SettingWithCopyWarning:\n",
      "\n",
      "\n",
      "A value is trying to be set on a copy of a slice from a DataFrame.\n",
      "Try using .loc[row_indexer,col_indexer] = value instead\n",
      "\n",
      "See the caveats in the documentation: https://pandas.pydata.org/pandas-docs/stable/user_guide/indexing.html#returning-a-view-versus-a-copy\n",
      "\n"
     ]
    }
   ],
   "source": [
    "# List of periods\n",
    "periods = [\n",
    "    ('2022-01-01', '2022-03-31'),\n",
    "    ('2022-04-01', '2022-06-30'),\n",
    "    ('2022-07-01', '2022-09-30'),\n",
    "    ('2022-10-01', '2022-12-31'),\n",
    "    ('2023-01-01', '2023-03-31'),\n",
    "    ('2023-04-01', '2023-06-30'),\n",
    "    ('2023-07-01', '2023-09-30'),\n",
    "    ('2023-10-01', '2023-12-31'),\n",
    "]\n",
    "\n",
    "# Create an empty list to store slopes\n",
    "slopes = []\n",
    "\n",
    "# Iterate over the periods\n",
    "for period in periods:\n",
    "    start_date = period[0]\n",
    "    end_date = period[1]\n",
    "    subset_df = df[(df['Watched Date'] >= start_date) & (df['Watched Date'] <= end_date)]\n",
    "\n",
    "    # Convert 'My Rating' and 'General Rating' to numeric\n",
    "    subset_df['My Rating'] = pd.to_numeric(subset_df['My Rating'], errors='coerce')\n",
    "    subset_df['General Rating'] = pd.to_numeric(subset_df['General Rating'], errors='coerce')\n",
    "\n",
    "    # Group by 'My Rating' and calculate the mean of 'General Rating'\n",
    "    mean_general_ratings = subset_df.groupby('My Rating')['General Rating'].mean()\n",
    "\n",
    "    # Calculate the slope using polyfit\n",
    "    z = np.polyfit(mean_general_ratings.index, mean_general_ratings, 1)\n",
    "    slope = z[0]\n",
    "\n",
    "    # Append the slope to the list\n",
    "    slopes.append(slope)\n",
    "\n",
    "# Print the slopes for each period\n",
    "for period, slope in zip(periods, slopes):\n",
    "    print(f\"Slope for period {period}: {slope}\")\n",
    "\n"
   ]
  },
  {
   "cell_type": "code",
   "execution_count": 19,
   "metadata": {},
   "outputs": [
    {
     "data": {
      "image/png": "[encoded data removed]",
      "text/plain": [
       "<Figure size 864x576 with 1 Axes>"
      ]
     },
     "metadata": {},
     "output_type": "display_data"
    }
   ],
   "source": [
    "\n",
    "# Plot the slopes\n",
    "plt.figure(figsize=(12, 8), facecolor='#6E5773')\n",
    "plt.plot(range(1, len(periods) + 1), slopes, marker='o', linestyle='-', color='w')\n",
    "plt.xticks(range(1, len(periods) + 1), [f'{start} to {end}' for start, end in periods], rotation=45)\n",
    "plt.title('Slopes for Each Period')\n",
    "plt.xlabel('Period')\n",
    "plt.ylabel('Slope')\n",
    "\n",
    "# Remove the grid and borders\n",
    "plt.grid(False)\n",
    "\n",
    "# Customize the background color\n",
    "plt.gca().set_facecolor('#6E5773')  # Set your desired background color here\n",
    "\n",
    "# Add a trendline\n",
    "z = np.polyfit(range(1, len(periods) + 1), slopes, 1)\n",
    "p = np.poly1d(z)\n",
    "plt.plot(range(1, len(periods) + 1), p(range(1, len(periods) + 1)), linestyle='--', color='r', label='Trendline')\n",
    "\n",
    "\n",
    "plt.tight_layout()\n",
    "plt.show()"
   ]
  },
  {
   "cell_type": "code",
   "execution_count": 20,
   "metadata": {},
   "outputs": [
    {
     "name": "stdout",
     "output_type": "stream",
     "text": [
      "Predicted slope for the current period: 0.18344246031745975\n"
     ]
    },
    {
     "data": {
      "image/png": "[encoded data removed]",
      "text/plain": [
       "<Figure size 864x576 with 1 Axes>"
      ]
     },
     "metadata": {},
     "output_type": "display_data"
    }
   ],
   "source": [
    "# Create a linear regression model\n",
    "regression_model = np.poly1d(np.polyfit(range(1, len(periods) + 1), slopes, 1))\n",
    "\n",
    "# Predict the slope for the current period\n",
    "current_period_slope = regression_model(len(periods) + 1)\n",
    "\n",
    "# Print the predicted slope for the current period\n",
    "print(f\"Predicted slope for the current period: {current_period_slope}\")\n",
    "\n",
    "# Visualize the prediction\n",
    "plt.figure(figsize=(12, 8), facecolor='#6E5773')\n",
    "plt.scatter(range(1, len(periods) + 1), slopes, color='w', label='Observed Slopes')\n",
    "plt.scatter(len(periods) + 1, current_period_slope, color='r', label='Predicted Slope')\n",
    "plt.title('Observed and Predicted Slopes')\n",
    "plt.xlabel('Period')\n",
    "plt.ylabel('Slope')\n",
    "plt.xticks(range(1, len(periods) + 2), [f'Period {i}' for i in range(1, len(periods) + 1)] + ['Predicted'], rotation=45)\n",
    "plt.legend()\n",
    "plt.grid(False)\n",
    "plt.gca().set_facecolor('#6E5773')\n",
    "plt.tight_layout()\n",
    "plt.show()\n"
   ]
  },
  {
   "cell_type": "code",
   "execution_count": 21,
   "metadata": {},
   "outputs": [
    {
     "name": "stdout",
     "output_type": "stream",
     "text": [
      "Correlation Coefficient: 0.47792125126423096\n"
     ]
    },
    {
     "data": {
      "application/vnd.plotly.v1+json": {
       "config": {
        "plotlyServerURL": "https://plot.ly"
       },
       "data": [
        {
         "hovertemplate": "My Rating=%{text}<br>General Rating=%{marker.color}<extra></extra>",
         "legendgroup": "",
         "marker": {
          "color": [
           4.1,
           3.9,
           4.2,
           3.6,
           3.6,
           4.5,
           4.1,
           4.1,
           3.4,
           4.2,
           4.2,
           3.6,
           4,
           4.2,
           3.9,
           4.1,
           3.9,
           4,
           4.6,
           4,
           4.6,
           4,
           4,
           4.1,
           3.6,
           4.1,
           3.9,
           4.3,
           4,
           3.4,
           4,
           3.8,
           3.6,
           4.1,
           4,
           3.2,
           3.8,
           3.6,
           3.4,
           4.2,
           3.8,
           3.7,
           3.8,
           4.2,
           3.7,
           4,
           3.6,
           3.5,
           3.9,
           4.2,
           4.3,
           3.3,
           3.9,
           4,
           4.2,
           4.1,
           4.2,
           3.8,
           4,
           4.1,
           3,
           3.5,
           4.1,
           4,
           4.3,
           4.5,
           3.2,
           3.9,
           4.6,
           3.6,
           3.5,
           4.2,
           3.7,
           2.9,
           3.5,
           3.8,
           3.6,
           4.2,
           3.9,
           3.9,
           3.8,
           4,
           3.9,
           3.8,
           3.4,
           4.2,
           3.4,
           4.3,
           3.5,
           4,
           4.3,
           3,
           3.6,
           4.4,
           4.1,
           3.7,
           3.9,
           3.3,
           3.8,
           3.4,
           4,
           2.9,
           3.6,
           4.1,
           3.8,
           3.9
          ],
          "coloraxis": "coloraxis",
          "opacity": 0.8,
          "symbol": "circle"
         },
         "mode": "markers+text",
         "name": "",
         "orientation": "v",
         "showlegend": false,
         "text": [
          null,
          3.5,
          5,
          null,
          3.5,
          4,
          3.5,
          4,
          3,
          4,
          3.5,
          3,
          3.5,
          3.5,
          3.5,
          3.5,
          4,
          3.5,
          4.5,
          2.5,
          4.5,
          3,
          4,
          3.5,
          3,
          3.5,
          3.5,
          3.5,
          4,
          3.5,
          4,
          4,
          3,
          4,
          3.5,
          3,
          3.5,
          3.5,
          null,
          2.5,
          4,
          3,
          3,
          3.5,
          3.5,
          4,
          3.5,
          3.5,
          3.5,
          4.5,
          3.5,
          null,
          3.5,
          3.5,
          4.5,
          4,
          3,
          4,
          4,
          4,
          3,
          3,
          4,
          3.5,
          null,
          4.5,
          2.5,
          4,
          4,
          3,
          4,
          4,
          2.5,
          3.5,
          4,
          3.5,
          3,
          4,
          3.5,
          3.5,
          4.5,
          4,
          4,
          3,
          3.5,
          4,
          3.5,
          3,
          3.5,
          4,
          4.5,
          3,
          3.5,
          4,
          3.5,
          4,
          3,
          2.5,
          4,
          null,
          3.5,
          3.5,
          null,
          3.5,
          4,
          null
         ],
         "type": "scatter",
         "x": [
          null,
          3.5,
          5,
          null,
          3.5,
          4,
          3.5,
          4,
          3,
          4,
          3.5,
          3,
          3.5,
          3.5,
          3.5,
          3.5,
          4,
          3.5,
          4.5,
          2.5,
          4.5,
          3,
          4,
          3.5,
          3,
          3.5,
          3.5,
          3.5,
          4,
          3.5,
          4,
          4,
          3,
          4,
          3.5,
          3,
          3.5,
          3.5,
          null,
          2.5,
          4,
          3,
          3,
          3.5,
          3.5,
          4,
          3.5,
          3.5,
          3.5,
          4.5,
          3.5,
          null,
          3.5,
          3.5,
          4.5,
          4,
          3,
          4,
          4,
          4,
          3,
          3,
          4,
          3.5,
          null,
          4.5,
          2.5,
          4,
          4,
          3,
          4,
          4,
          2.5,
          3.5,
          4,
          3.5,
          3,
          4,
          3.5,
          3.5,
          4.5,
          4,
          4,
          3,
          3.5,
          4,
          3.5,
          3,
          3.5,
          4,
          4.5,
          3,
          3.5,
          4,
          3.5,
          4,
          3,
          2.5,
          4,
          null,
          3.5,
          3.5,
          null,
          3.5,
          4,
          null
         ],
         "xaxis": "x",
         "y": [
          4.1,
          3.9,
          4.2,
          3.6,
          3.6,
          4.5,
          4.1,
          4.1,
          3.4,
          4.2,
          4.2,
          3.6,
          4,
          4.2,
          3.9,
          4.1,
          3.9,
          4,
          4.6,
          4,
          4.6,
          4,
          4,
          4.1,
          3.6,
          4.1,
          3.9,
          4.3,
          4,
          3.4,
          4,
          3.8,
          3.6,
          4.1,
          4,
          3.2,
          3.8,
          3.6,
          3.4,
          4.2,
          3.8,
          3.7,
          3.8,
          4.2,
          3.7,
          4,
          3.6,
          3.5,
          3.9,
          4.2,
          4.3,
          3.3,
          3.9,
          4,
          4.2,
          4.1,
          4.2,
          3.8,
          4,
          4.1,
          3,
          3.5,
          4.1,
          4,
          4.3,
          4.5,
          3.2,
          3.9,
          4.6,
          3.6,
          3.5,
          4.2,
          3.7,
          2.9,
          3.5,
          3.8,
          3.6,
          4.2,
          3.9,
          3.9,
          3.8,
          4,
          3.9,
          3.8,
          3.4,
          4.2,
          3.4,
          4.3,
          3.5,
          4,
          4.3,
          3,
          3.6,
          4.4,
          4.1,
          3.7,
          3.9,
          3.3,
          3.8,
          3.4,
          4,
          2.9,
          3.6,
          4.1,
          3.8,
          3.9
         ],
         "yaxis": "y"
        }
       ],
       "layout": {
        "coloraxis": {
         "colorbar": {
          "title": {
           "text": "General Rating"
          }
         },
         "colorscale": [
          [
           0,
           "#440154"
          ],
          [
           0.1111111111111111,
           "#482878"
          ],
          [
           0.2222222222222222,
           "#3e4989"
          ],
          [
           0.3333333333333333,
           "#31688e"
          ],
          [
           0.4444444444444444,
           "#26828e"
          ],
          [
           0.5555555555555556,
           "#1f9e89"
          ],
          [
           0.6666666666666666,
           "#35b779"
          ],
          [
           0.7777777777777778,
           "#6ece58"
          ],
          [
           0.8888888888888888,
           "#b5de2b"
          ],
          [
           1,
           "#fde725"
          ]
         ]
        },
        "font": {
         "color": "black"
        },
        "height": 600,
        "legend": {
         "tracegroupgap": 0
        },
        "paper_bgcolor": "#82A0D8",
        "plot_bgcolor": "#82A0D8",
        "template": {
         "data": {
          "bar": [
           {
            "error_x": {
             "color": "#2a3f5f"
            },
            "error_y": {
             "color": "#2a3f5f"
            },
            "marker": {
             "line": {
              "color": "#E5ECF6",
              "width": 0.5
             },
             "pattern": {
              "fillmode": "overlay",
              "size": 10,
              "solidity": 0.2
             }
            },
            "type": "bar"
           }
          ],
          "barpolar": [
           {
            "marker": {
             "line": {
              "color": "#E5ECF6",
              "width": 0.5
             },
             "pattern": {
              "fillmode": "overlay",
              "size": 10,
              "solidity": 0.2
             }
            },
            "type": "barpolar"
           }
          ],
          "carpet": [
           {
            "aaxis": {
             "endlinecolor": "#2a3f5f",
             "gridcolor": "white",
             "linecolor": "white",
             "minorgridcolor": "white",
             "startlinecolor": "#2a3f5f"
            },
            "baxis": {
             "endlinecolor": "#2a3f5f",
             "gridcolor": "white",
             "linecolor": "white",
             "minorgridcolor": "white",
             "startlinecolor": "#2a3f5f"
            },
            "type": "carpet"
           }
          ],
          "choropleth": [
           {
            "colorbar": {
             "outlinewidth": 0,
             "ticks": ""
            },
            "type": "choropleth"
           }
          ],
          "contour": [
           {
            "colorbar": {
             "outlinewidth": 0,
             "ticks": ""
            },
            "colorscale": [
             [
              0,
              "#0d0887"
             ],
             [
              0.1111111111111111,
              "#46039f"
             ],
             [
              0.2222222222222222,
              "#7201a8"
             ],
             [
              0.3333333333333333,
              "#9c179e"
             ],
             [
              0.4444444444444444,
              "#bd3786"
             ],
             [
              0.5555555555555556,
              "#d8576b"
             ],
             [
              0.6666666666666666,
              "#ed7953"
             ],
             [
              0.7777777777777778,
              "#fb9f3a"
             ],
             [
              0.8888888888888888,
              "#fdca26"
             ],
             [
              1,
              "#f0f921"
             ]
            ],
            "type": "contour"
           }
          ],
          "contourcarpet": [
           {
            "colorbar": {
             "outlinewidth": 0,
             "ticks": ""
            },
            "type": "contourcarpet"
           }
          ],
          "heatmap": [
           {
            "colorbar": {
             "outlinewidth": 0,
             "ticks": ""
            },
            "colorscale": [
             [
              0,
              "#0d0887"
             ],
             [
              0.1111111111111111,
              "#46039f"
             ],
             [
              0.2222222222222222,
              "#7201a8"
             ],
             [
              0.3333333333333333,
              "#9c179e"
             ],
             [
              0.4444444444444444,
              "#bd3786"
             ],
             [
              0.5555555555555556,
              "#d8576b"
             ],
             [
              0.6666666666666666,
              "#ed7953"
             ],
             [
              0.7777777777777778,
              "#fb9f3a"
             ],
             [
              0.8888888888888888,
              "#fdca26"
             ],
             [
              1,
              "#f0f921"
             ]
            ],
            "type": "heatmap"
           }
          ],
          "heatmapgl": [
           {
            "colorbar": {
             "outlinewidth": 0,
             "ticks": ""
            },
            "colorscale": [
             [
              0,
              "#0d0887"
             ],
             [
              0.1111111111111111,
              "#46039f"
             ],
             [
              0.2222222222222222,
              "#7201a8"
             ],
             [
              0.3333333333333333,
              "#9c179e"
             ],
             [
              0.4444444444444444,
              "#bd3786"
             ],
             [
              0.5555555555555556,
              "#d8576b"
             ],
             [
              0.6666666666666666,
              "#ed7953"
             ],
             [
              0.7777777777777778,
              "#fb9f3a"
             ],
             [
              0.8888888888888888,
              "#fdca26"
             ],
             [
              1,
              "#f0f921"
             ]
            ],
            "type": "heatmapgl"
           }
          ],
          "histogram": [
           {
            "marker": {
             "pattern": {
              "fillmode": "overlay",
              "size": 10,
              "solidity": 0.2
             }
            },
            "type": "histogram"
           }
          ],
          "histogram2d": [
           {
            "colorbar": {
             "outlinewidth": 0,
             "ticks": ""
            },
            "colorscale": [
             [
              0,
              "#0d0887"
             ],
             [
              0.1111111111111111,
              "#46039f"
             ],
             [
              0.2222222222222222,
              "#7201a8"
             ],
             [
              0.3333333333333333,
              "#9c179e"
             ],
             [
              0.4444444444444444,
              "#bd3786"
             ],
             [
              0.5555555555555556,
              "#d8576b"
             ],
             [
              0.6666666666666666,
              "#ed7953"
             ],
             [
              0.7777777777777778,
              "#fb9f3a"
             ],
             [
              0.8888888888888888,
              "#fdca26"
             ],
             [
              1,
              "#f0f921"
             ]
            ],
            "type": "histogram2d"
           }
          ],
          "histogram2dcontour": [
           {
            "colorbar": {
             "outlinewidth": 0,
             "ticks": ""
            },
            "colorscale": [
             [
              0,
              "#0d0887"
             ],
             [
              0.1111111111111111,
              "#46039f"
             ],
             [
              0.2222222222222222,
              "#7201a8"
             ],
             [
              0.3333333333333333,
              "#9c179e"
             ],
             [
              0.4444444444444444,
              "#bd3786"
             ],
             [
              0.5555555555555556,
              "#d8576b"
             ],
             [
              0.6666666666666666,
              "#ed7953"
             ],
             [
              0.7777777777777778,
              "#fb9f3a"
             ],
             [
              0.8888888888888888,
              "#fdca26"
             ],
             [
              1,
              "#f0f921"
             ]
            ],
            "type": "histogram2dcontour"
           }
          ],
          "mesh3d": [
           {
            "colorbar": {
             "outlinewidth": 0,
             "ticks": ""
            },
            "type": "mesh3d"
           }
          ],
          "parcoords": [
           {
            "line": {
             "colorbar": {
              "outlinewidth": 0,
              "ticks": ""
             }
            },
            "type": "parcoords"
           }
          ],
          "pie": [
           {
            "automargin": true,
            "type": "pie"
           }
          ],
          "scatter": [
           {
            "marker": {
             "colorbar": {
              "outlinewidth": 0,
              "ticks": ""
             }
            },
            "type": "scatter"
           }
          ],
          "scatter3d": [
           {
            "line": {
             "colorbar": {
              "outlinewidth": 0,
              "ticks": ""
             }
            },
            "marker": {
             "colorbar": {
              "outlinewidth": 0,
              "ticks": ""
             }
            },
            "type": "scatter3d"
           }
          ],
          "scattercarpet": [
           {
            "marker": {
             "colorbar": {
              "outlinewidth": 0,
              "ticks": ""
             }
            },
            "type": "scattercarpet"
           }
          ],
          "scattergeo": [
           {
            "marker": {
             "colorbar": {
              "outlinewidth": 0,
              "ticks": ""
             }
            },
            "type": "scattergeo"
           }
          ],
          "scattergl": [
           {
            "marker": {
             "colorbar": {
              "outlinewidth": 0,
              "ticks": ""
             }
            },
            "type": "scattergl"
           }
          ],
          "scattermapbox": [
           {
            "marker": {
             "colorbar": {
              "outlinewidth": 0,
              "ticks": ""
             }
            },
            "type": "scattermapbox"
           }
          ],
          "scatterpolar": [
           {
            "marker": {
             "colorbar": {
              "outlinewidth": 0,
              "ticks": ""
             }
            },
            "type": "scatterpolar"
           }
          ],
          "scatterpolargl": [
           {
            "marker": {
             "colorbar": {
              "outlinewidth": 0,
              "ticks": ""
             }
            },
            "type": "scatterpolargl"
           }
          ],
          "scatterternary": [
           {
            "marker": {
             "colorbar": {
              "outlinewidth": 0,
              "ticks": ""
             }
            },
            "type": "scatterternary"
           }
          ],
          "surface": [
           {
            "colorbar": {
             "outlinewidth": 0,
             "ticks": ""
            },
            "colorscale": [
             [
              0,
              "#0d0887"
             ],
             [
              0.1111111111111111,
              "#46039f"
             ],
             [
              0.2222222222222222,
              "#7201a8"
             ],
             [
              0.3333333333333333,
              "#9c179e"
             ],
             [
              0.4444444444444444,
              "#bd3786"
             ],
             [
              0.5555555555555556,
              "#d8576b"
             ],
             [
              0.6666666666666666,
              "#ed7953"
             ],
             [
              0.7777777777777778,
              "#fb9f3a"
             ],
             [
              0.8888888888888888,
              "#fdca26"
             ],
             [
              1,
              "#f0f921"
             ]
            ],
            "type": "surface"
           }
          ],
          "table": [
           {
            "cells": {
             "fill": {
              "color": "#EBF0F8"
             },
             "line": {
              "color": "white"
             }
            },
            "header": {
             "fill": {
              "color": "#C8D4E3"
             },
             "line": {
              "color": "white"
             }
            },
            "type": "table"
           }
          ]
         },
         "layout": {
          "annotationdefaults": {
           "arrowcolor": "#2a3f5f",
           "arrowhead": 0,
           "arrowwidth": 1
          },
          "autotypenumbers": "strict",
          "coloraxis": {
           "colorbar": {
            "outlinewidth": 0,
            "ticks": ""
           }
          },
          "colorscale": {
           "diverging": [
            [
             0,
             "#8e0152"
            ],
            [
             0.1,
             "#c51b7d"
            ],
            [
             0.2,
             "#de77ae"
            ],
            [
             0.3,
             "#f1b6da"
            ],
            [
             0.4,
             "#fde0ef"
            ],
            [
             0.5,
             "#f7f7f7"
            ],
            [
             0.6,
             "#e6f5d0"
            ],
            [
             0.7,
             "#b8e186"
            ],
            [
             0.8,
             "#7fbc41"
            ],
            [
             0.9,
             "#4d9221"
            ],
            [
             1,
             "#276419"
            ]
           ],
           "sequential": [
            [
             0,
             "#0d0887"
            ],
            [
             0.1111111111111111,
             "#46039f"
            ],
            [
             0.2222222222222222,
             "#7201a8"
            ],
            [
             0.3333333333333333,
             "#9c179e"
            ],
            [
             0.4444444444444444,
             "#bd3786"
            ],
            [
             0.5555555555555556,
             "#d8576b"
            ],
            [
             0.6666666666666666,
             "#ed7953"
            ],
            [
             0.7777777777777778,
             "#fb9f3a"
            ],
            [
             0.8888888888888888,
             "#fdca26"
            ],
            [
             1,
             "#f0f921"
            ]
           ],
           "sequentialminus": [
            [
             0,
             "#0d0887"
            ],
            [
             0.1111111111111111,
             "#46039f"
            ],
            [
             0.2222222222222222,
             "#7201a8"
            ],
            [
             0.3333333333333333,
             "#9c179e"
            ],
            [
             0.4444444444444444,
             "#bd3786"
            ],
            [
             0.5555555555555556,
             "#d8576b"
            ],
            [
             0.6666666666666666,
             "#ed7953"
            ],
            [
             0.7777777777777778,
             "#fb9f3a"
            ],
            [
             0.8888888888888888,
             "#fdca26"
            ],
            [
             1,
             "#f0f921"
            ]
           ]
          },
          "colorway": [
           "#636efa",
           "#EF553B",
           "#00cc96",
           "#ab63fa",
           "#FFA15A",
           "#19d3f3",
           "#FF6692",
           "#B6E880",
           "#FF97FF",
           "#FECB52"
          ],
          "font": {
           "color": "#2a3f5f"
          },
          "geo": {
           "bgcolor": "white",
           "lakecolor": "white",
           "landcolor": "#E5ECF6",
           "showlakes": true,
           "showland": true,
           "subunitcolor": "white"
          },
          "hoverlabel": {
           "align": "left"
          },
          "hovermode": "closest",
          "mapbox": {
           "style": "light"
          },
          "paper_bgcolor": "white",
          "plot_bgcolor": "#E5ECF6",
          "polar": {
           "angularaxis": {
            "gridcolor": "white",
            "linecolor": "white",
            "ticks": ""
           },
           "bgcolor": "#E5ECF6",
           "radialaxis": {
            "gridcolor": "white",
            "linecolor": "white",
            "ticks": ""
           }
          },
          "scene": {
           "xaxis": {
            "backgroundcolor": "#E5ECF6",
            "gridcolor": "white",
            "gridwidth": 2,
            "linecolor": "white",
            "showbackground": true,
            "ticks": "",
            "zerolinecolor": "white"
           },
           "yaxis": {
            "backgroundcolor": "#E5ECF6",
            "gridcolor": "white",
            "gridwidth": 2,
            "linecolor": "white",
            "showbackground": true,
            "ticks": "",
            "zerolinecolor": "white"
           },
           "zaxis": {
            "backgroundcolor": "#E5ECF6",
            "gridcolor": "white",
            "gridwidth": 2,
            "linecolor": "white",
            "showbackground": true,
            "ticks": "",
            "zerolinecolor": "white"
           }
          },
          "shapedefaults": {
           "line": {
            "color": "#2a3f5f"
           }
          },
          "ternary": {
           "aaxis": {
            "gridcolor": "white",
            "linecolor": "white",
            "ticks": ""
           },
           "baxis": {
            "gridcolor": "white",
            "linecolor": "white",
            "ticks": ""
           },
           "bgcolor": "#E5ECF6",
           "caxis": {
            "gridcolor": "white",
            "linecolor": "white",
            "ticks": ""
           }
          },
          "title": {
           "x": 0.05
          },
          "xaxis": {
           "automargin": true,
           "gridcolor": "white",
           "linecolor": "white",
           "ticks": "",
           "title": {
            "standoff": 15
           },
           "zerolinecolor": "white",
           "zerolinewidth": 2
          },
          "yaxis": {
           "automargin": true,
           "gridcolor": "white",
           "linecolor": "white",
           "ticks": "",
           "title": {
            "standoff": 15
           },
           "zerolinecolor": "white",
           "zerolinewidth": 2
          }
         }
        },
        "title": {
         "font": {
          "color": "black"
         },
         "text": "Scatter Chart: My Ratings vs. General Ratings  -   Correlation Coefficient: 0.48"
        },
        "width": 900,
        "xaxis": {
         "anchor": "y",
         "domain": [
          0,
          1
         ],
         "gridcolor": "#CED4DA",
         "range": [
          2.4,
          5.1
         ],
         "showgrid": true,
         "title": {
          "text": "My Rating"
         },
         "zeroline": false
        },
        "yaxis": {
         "anchor": "x",
         "domain": [
          0,
          1
         ],
         "gridcolor": "#CED4DA",
         "range": [
          2.7,
          4.7
         ],
         "showgrid": true,
         "title": {
          "text": "General Rating"
         },
         "zeroline": false
        }
       }
      }
     },
     "metadata": {},
     "output_type": "display_data"
    }
   ],
   "source": [
    "# Convert 'My Rating' and 'General Rating' to numeric\n",
    "df['My Rating'] = pd.to_numeric(df['My Rating'], errors='coerce')\n",
    "df['General Rating'] = pd.to_numeric(df['General Rating'], errors='coerce')\n",
    "\n",
    "# Drop rows with missing values in 'General Rating'\n",
    "df = df.dropna(subset=['General Rating'])\n",
    "\n",
    "# Calculate the correlation coefficient\n",
    "correlation_coefficient = df['My Rating'].corr(df['General Rating'])\n",
    "\n",
    "print(f\"Correlation Coefficient: {correlation_coefficient}\")\n",
    "\n",
    "# Set seaborn style for improved aesthetics\n",
    "sns.set(style='whitegrid')\n",
    "\n",
    "# Create a scatter chart with Plotly\n",
    "fig = px.scatter(df, x='My Rating', y='General Rating', \n",
    "                 color='General Rating', opacity=0.8, text='My Rating',\n",
    "                 labels={'General Rating': 'General Rating', 'My Rating': 'My Rating'},\n",
    "                 title=f'Scatter Chart: My Ratings vs. General Ratings  -   Correlation Coefficient: {correlation_coefficient:.2f}',\n",
    "                 color_continuous_scale='Viridis', range_x=[2.4, 5.1], range_y=[2.7, 4.7])\n",
    "\n",
    "# Customize layout\n",
    "fig.update_layout(\n",
    "    paper_bgcolor='#82A0D8', \n",
    "    plot_bgcolor='#82A0D8',  \n",
    "    font=dict(color='black'), \n",
    "    title=dict(font=dict(color='black')),  # Dark title color\n",
    "    xaxis=dict(gridcolor='#CED4DA', showgrid=True, zeroline=False),  # Light grid color\n",
    "    yaxis=dict(gridcolor='#CED4DA', showgrid=True, zeroline=False),  # Light grid color\n",
    "    width=900,  # Set the width of the figure\n",
    "    height=600  # Set the height of the figure\n",
    ")\n",
    "\n",
    "# Show the plot\n",
    "fig.show()\n"
   ]
  }
 ],
 "metadata": {
  "kernelspec": {
   "display_name": "base",
   "language": "python",
   "name": "python3"
  },
  "language_info": {
   "codemirror_mode": {
    "name": "ipython",
    "version": 3
   },
   "file_extension": ".py",
   "mimetype": "text/x-python",
   "name": "python",
   "nbconvert_exporter": "python",
   "pygments_lexer": "ipython3",
   "version": "3.9.12"
  }
 },
 "nbformat": 4,
 "nbformat_minor": 2
}
